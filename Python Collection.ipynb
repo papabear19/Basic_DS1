{
 "cells": [
  {
   "cell_type": "markdown",
   "id": "28483ec7-bc54-4ad8-9c16-734af10cbc2e",
   "metadata": {},
   "source": [
    "**Python Collections**\n",
    "\n",
    "Pada materi kali ini kita akan belajar beberapa jenis Python Collection yang biasa sering digunakan dalam berbagai pekerjaan Data Analytics dan Data Science. \n",
    "\n",
    "Python Collection secara singkat dapat dikatakan juga sebagai \"wadah sementara\" dimana kita dapat meletakan value yang ingin kita proses dalam menggunakan bahasa pemgrograman Python. Python collection memiliki beragam jenis dengan fungsi yang berbeda, dan penggunaannya dapat disesuaikan dengan kebutuhan kita ketika mengolah data.  "
   ]
  },
  {
   "cell_type": "markdown",
   "id": "1d4d0891-268f-4acc-9c91-0f20c689b2b6",
   "metadata": {
    "tags": [],
    "toc-hr-collapsed": true
   },
   "source": [
    "# Tuple"
   ]
  },
  {
   "cell_type": "markdown",
   "id": "5f4b6220-4a51-4884-84b7-5780c659fcb1",
   "metadata": {
    "tags": []
   },
   "source": [
    "## Apa itu tuple?"
   ]
  },
  {
   "cell_type": "markdown",
   "id": "2506da82-b1ba-4289-8cfb-75d047e32c4e",
   "metadata": {},
   "source": [
    "Tuple merupakan *core* data struktur pada Python yang memungkinkan untuk menyimpan data atau *value*. Misalnya, kita bisa menyimpan data dari nama-nama karyawan di kantor, daftar nilai siswa, dan sebagainya. \n",
    "\n",
    "Tuple bersifat *immutable*, artinya data yang disimpan pada tuple tidak dapat diubah atau dimanipulasi. Setiap nilai yang disimpan pada tuple biasa disebut sebagai *item*. "
   ]
  },
  {
   "cell_type": "markdown",
   "id": "63714625-4447-4744-9b2b-11e137fa6268",
   "metadata": {},
   "source": [
    "## Bagaimana membuat tuple?"
   ]
  },
  {
   "cell_type": "markdown",
   "id": "682f2c7c-2589-447d-8532-1f3b3ae2439e",
   "metadata": {},
   "source": [
    "Untuk memasukan *value* pada tuple, antara *value* tersebut akan dipisahkan dengan ***koma \",\"*** dan diletakan di dalam ***paranthesis ( )*** Contohnya seperti di bawah ini:"
   ]
  },
  {
   "cell_type": "code",
   "execution_count": 3,
   "id": "af0fc151-54ca-4556-b216-6556bcbfc322",
   "metadata": {},
   "outputs": [
    {
     "name": "stdout",
     "output_type": "stream",
     "text": [
      "('andi', 'ani', 'budi', 'siska')\n",
      "(100, 90, 75, 65)\n",
      "<class 'tuple'>\n",
      "<class 'tuple'>\n"
     ]
    }
   ],
   "source": [
    "karyawan = (\"andi\", \"ani\", \"budi\", \"siska\")\n",
    "nilai_siswa = (100, 90, 75, 65)\n",
    "\n",
    "# print tuple\n",
    "print(karyawan)\n",
    "print(nilai_siswa)\n",
    "\n",
    "#cek tipe variable di atas\n",
    "print(type(karyawan))\n",
    "print(type(nilai_siswa))"
   ]
  },
  {
   "cell_type": "markdown",
   "id": "88755a4f-cc3d-4dc4-bebf-14e4adb588f8",
   "metadata": {},
   "source": [
    "## Mengakses value pada tuple"
   ]
  },
  {
   "cell_type": "markdown",
   "id": "148a67eb-e933-441f-94f6-00b760218fa4",
   "metadata": {},
   "source": [
    "Setiap item yang ada pada tuple memiliki nilai index. Index adalah urutan. Pada bahasa pemrograman Python, index dimulai dari **0**. Untuk mengakses item tertentu yang ada pada tuple, dapat menggunakan **[ ]** (*square brackets*)"
   ]
  },
  {
   "cell_type": "code",
   "execution_count": 2,
   "id": "cf333155-e294-4d6e-8d05-3c10020a7fe4",
   "metadata": {},
   "outputs": [
    {
     "data": {
      "text/plain": [
       "'ani'"
      ]
     },
     "execution_count": 2,
     "metadata": {},
     "output_type": "execute_result"
    }
   ],
   "source": [
    "karyawan = (\"andi\", \"ani\", \"budi\", \"siska\")\n",
    "\n",
    "# pilih \"ani\" dari tuple diatas\n",
    "karyawan[1]"
   ]
  },
  {
   "cell_type": "markdown",
   "id": "86bc386e-adc8-4d4e-8cd3-dca02ce24d20",
   "metadata": {},
   "source": [
    "Akses tuple dari index belakang atau *negative index value*.\n",
    "negative index value dimulai dari -1"
   ]
  },
  {
   "cell_type": "code",
   "execution_count": 15,
   "id": "e32d4647-182c-4e2a-a2c9-5ac8b67fc684",
   "metadata": {},
   "outputs": [
    {
     "name": "stdout",
     "output_type": "stream",
     "text": [
      "siska\n",
      "budi\n"
     ]
    }
   ],
   "source": [
    "karyawan = (\"andi\", \"ani\", \"budi\", \"siska\")\n",
    "\n",
    "# pilih \"siska\" dengan menggunakan negative index value\n",
    "print(karyawan[-1])\n",
    "\n",
    "# pilih \"budi\" dengan menggunakan negative index value\n",
    "print(karyawan[-2])"
   ]
  },
  {
   "cell_type": "markdown",
   "id": "41d13b0a-8769-4461-8504-55d97d076a9b",
   "metadata": {},
   "source": [
    "## Slicing Tuple"
   ]
  },
  {
   "cell_type": "markdown",
   "id": "55085036-ae6e-4bfc-b7a4-8c693b99e880",
   "metadata": {},
   "source": [
    "Slicing dapat dilakukan ketika kita hendak mengakses lebih dari satu item dengan index yang berurutan. Untuk melakukan slicing dapat menggunakan **\":\"**. \n",
    "\n",
    "            start_index : ending_index\n",
    "\n",
    "*ending index dianggap ekslusif*. Artinya tidak akan ikut dieksekusi. Sehingga jika kita hendak slicing data dari index ke-2 hingga ke-6, yang kita lakukan adalah:\n",
    "\n",
    "             variable_tuple[1:7]"
   ]
  },
  {
   "cell_type": "code",
   "execution_count": 4,
   "id": "cea39fc9-0e01-4f91-8db8-1d3a0ce640f4",
   "metadata": {},
   "outputs": [
    {
     "data": {
      "text/plain": [
       "(90, 75, 65)"
      ]
     },
     "execution_count": 4,
     "metadata": {},
     "output_type": "execute_result"
    }
   ],
   "source": [
    "nilai_siswa = (100, 90, 75, 65)\n",
    "\n",
    "#pilih nilai dari 90 hingga 65\n",
    "nilai_siswa[1:4]"
   ]
  },
  {
   "cell_type": "markdown",
   "id": "0ecdf0de-63bf-4b07-befa-758f7217e070",
   "metadata": {},
   "source": [
    "Kita juga dapat slicing tuple dengan menggunakan negative index value"
   ]
  },
  {
   "cell_type": "code",
   "execution_count": 9,
   "id": "a5832814-592b-489a-8cab-5a8cc777caae",
   "metadata": {},
   "outputs": [
    {
     "data": {
      "text/plain": [
       "(75, 65)"
      ]
     },
     "execution_count": 9,
     "metadata": {},
     "output_type": "execute_result"
    }
   ],
   "source": [
    "# slice dua value terakhir pada variabel nilai_siswa\n",
    "nilai_siswa[-2:]"
   ]
  },
  {
   "cell_type": "markdown",
   "id": "b56ba4d9-caa1-49a6-a4f4-75da1f2002d0",
   "metadata": {},
   "source": [
    "## Tuple Operators"
   ]
  },
  {
   "cell_type": "markdown",
   "id": "b82da579-08a9-4d3f-84c5-4d157b498f14",
   "metadata": {},
   "source": [
    "Operators aritmatika yang dapat digunakan pada tuple sangat terbatas. Misalnya operator *addition **+*** dapat digunakan hanya untuk *concatenate* (menggabungkan) dua atau beberapa tuple."
   ]
  },
  {
   "cell_type": "code",
   "execution_count": 11,
   "id": "47558b36-754b-457d-a59f-bc0602be932f",
   "metadata": {},
   "outputs": [
    {
     "data": {
      "text/plain": [
       "(1, 2, 3, 4, 5, 6, 7, 8, 9, 20, 10, 11)"
      ]
     },
     "execution_count": 11,
     "metadata": {},
     "output_type": "execute_result"
    }
   ],
   "source": [
    "a = (1, 2, 3, 4, 5)\n",
    "b = (6, 7, 8, 9, 20)\n",
    "c = (10, 11)\n",
    "\n",
    "# merge (gabungkan) a dan b\n",
    "a + b + c"
   ]
  },
  {
   "cell_type": "markdown",
   "id": "ccb1a91a-c115-49fb-9e40-843e450a7e4a",
   "metadata": {},
   "source": [
    "Namun tuple tidak bisa digabung dengan single value. Maka kalian akan menjumpai **error**, seperti contoh dibawah ini:"
   ]
  },
  {
   "cell_type": "code",
   "execution_count": 12,
   "id": "34045312-d5db-45cb-8cad-74d84840d159",
   "metadata": {},
   "outputs": [
    {
     "ename": "TypeError",
     "evalue": "can only concatenate tuple (not \"int\") to tuple",
     "output_type": "error",
     "traceback": [
      "\u001b[0;31m---------------------------------------------------------------------------\u001b[0m",
      "\u001b[0;31mTypeError\u001b[0m                                 Traceback (most recent call last)",
      "\u001b[0;32m<ipython-input-12-12847027c153>\u001b[0m in \u001b[0;36m<module>\u001b[0;34m\u001b[0m\n\u001b[1;32m      1\u001b[0m \u001b[0;31m# masukan angka 21 ke dalam item tuple b\u001b[0m\u001b[0;34m\u001b[0m\u001b[0;34m\u001b[0m\u001b[0;34m\u001b[0m\u001b[0m\n\u001b[1;32m      2\u001b[0m \u001b[0;34m\u001b[0m\u001b[0m\n\u001b[0;32m----> 3\u001b[0;31m \u001b[0mb\u001b[0m \u001b[0;34m+\u001b[0m \u001b[0;36m21\u001b[0m\u001b[0;34m\u001b[0m\u001b[0;34m\u001b[0m\u001b[0m\n\u001b[0m",
      "\u001b[0;31mTypeError\u001b[0m: can only concatenate tuple (not \"int\") to tuple"
     ]
    }
   ],
   "source": [
    "# masukan angka 21 ke dalam item tuple b\n",
    "\n",
    "b + 21"
   ]
  },
  {
   "cell_type": "markdown",
   "id": "a8cd9315-f415-421b-a05d-4c3e2fbf4333",
   "metadata": {},
   "source": [
    "## Iterating Through a Tuple\n",
    "\n",
    "Seperti Python collection yang lain, tuple juga dapat digunakan pada iterasi \"looping\". Contohnya seperti di bawah ini:"
   ]
  },
  {
   "cell_type": "code",
   "execution_count": 16,
   "id": "183732b0-16d8-4f07-9405-c0db08fe076c",
   "metadata": {},
   "outputs": [
    {
     "data": {
      "text/plain": [
       "('andi', 'ani', 'budi', 'siska')"
      ]
     },
     "execution_count": 16,
     "metadata": {},
     "output_type": "execute_result"
    }
   ],
   "source": [
    "karyawan = ('andi', 'ani', 'budi', 'siska')"
   ]
  },
  {
   "cell_type": "code",
   "execution_count": 18,
   "id": "47fa26a3-a82b-40fc-95b1-256919a93b2f",
   "metadata": {},
   "outputs": [
    {
     "name": "stdout",
     "output_type": "stream",
     "text": [
      "nama karyawan: andi\n",
      "nama karyawan: ani\n",
      "nama karyawan: budi\n",
      "nama karyawan: siska\n"
     ]
    }
   ],
   "source": [
    "for i in karyawan:\n",
    "    print(f\"nama karyawan: {i}\")"
   ]
  },
  {
   "cell_type": "markdown",
   "id": "0996eff8-6d0d-4781-9a34-f0cb379ded6c",
   "metadata": {
    "tags": [],
    "toc-hr-collapsed": true
   },
   "source": [
    "# List\n",
    "List merupakan salah satu python collection yang bersifat **mutable**, atau dapat dimodifikasi. Yang mencirikan list adalah *data* atau *value* akan diletakan di dalam **[ ]** (square brackets). Dengan list kita dapat melakukan hal-hal berikut:\n",
    "- memodifikasi list (mutable)\n",
    "- basic kalkukasi matematika\n",
    "- list bisa menyimpan lebih dari satu tipe data\n",
    "\n",
    "Namun list memiliki keterbatasan, yaitu list tidak dapat digunakan untuk operasi matematika yang kompleks."
   ]
  },
  {
   "cell_type": "markdown",
   "id": "8cb2a6f1-817e-4e06-b530-36df3b3ba42b",
   "metadata": {},
   "source": [
    "### Membuat list"
   ]
  },
  {
   "cell_type": "markdown",
   "id": "0513a095-d499-46f0-8b21-2ba325ae8125",
   "metadata": {},
   "source": [
    "### list yang simpel"
   ]
  },
  {
   "cell_type": "markdown",
   "id": "df85f384-8c59-4178-bddb-a190d6671f03",
   "metadata": {},
   "source": [
    "Untuk membuat list yang sederhana, kita dapat melakukannya seperti pada contoh di bawah ini:"
   ]
  },
  {
   "cell_type": "code",
   "execution_count": 9,
   "id": "7f4cc1e4-1895-43fa-9f16-d0dfb6f37a84",
   "metadata": {},
   "outputs": [
    {
     "data": {
      "text/plain": [
       "[1, 2, 3, 4, 5]"
      ]
     },
     "execution_count": 9,
     "metadata": {},
     "output_type": "execute_result"
    }
   ],
   "source": [
    "my_list1 = [1, 2, 3, 4, 5]\n",
    "my_list1"
   ]
  },
  {
   "cell_type": "code",
   "execution_count": 10,
   "id": "99de4977-7fbb-4020-9034-349d7fbb9f82",
   "metadata": {},
   "outputs": [
    {
     "data": {
      "text/plain": [
       "list"
      ]
     },
     "execution_count": 10,
     "metadata": {},
     "output_type": "execute_result"
    }
   ],
   "source": [
    "type(my_list1)"
   ]
  },
  {
   "cell_type": "markdown",
   "id": "faa89436-cae4-4968-98bd-259bde2d0125",
   "metadata": {},
   "source": [
    "### membuat list dengan fungsi **list()** dan **range()**"
   ]
  },
  {
   "cell_type": "code",
   "execution_count": 21,
   "id": "e6cf5a85-015a-4667-98c0-6eeacdb44daf",
   "metadata": {},
   "outputs": [
    {
     "data": {
      "text/plain": [
       "[0, 1, 2, 3, 4]"
      ]
     },
     "execution_count": 21,
     "metadata": {},
     "output_type": "execute_result"
    }
   ],
   "source": [
    "#membuat list dengan range 5, secara otomatis nilai yang dimasukan dimulai dari 0\n",
    "my_list2 = list(range(5)) \n",
    "my_list2"
   ]
  },
  {
   "cell_type": "code",
   "execution_count": 6,
   "id": "e75f064e-fea5-490d-8683-2d698ab977de",
   "metadata": {},
   "outputs": [
    {
     "data": {
      "text/plain": [
       "[1, 2, 3, 4, 5, 6, 7, 8, 9, 10]"
      ]
     },
     "execution_count": 6,
     "metadata": {},
     "output_type": "execute_result"
    }
   ],
   "source": [
    "# membuat list dengan range 10, dimulai dari 1 sampai angka 10. \n",
    "# angka 11 tidak akan dimasukan, karena dianggap sebagai \"ending\". \n",
    "# ending selalu ekslusive atau dihitung ending - 1\n",
    "\n",
    "my_list2 = list(range(1, 11)) \n",
    "my_list2 "
   ]
  },
  {
   "cell_type": "code",
   "execution_count": 17,
   "id": "9dff0d85-1455-40e6-b256-6ded4787a26e",
   "metadata": {},
   "outputs": [
    {
     "data": {
      "text/plain": [
       "[10, 12, 14, 16, 18, 20]"
      ]
     },
     "execution_count": 17,
     "metadata": {},
     "output_type": "execute_result"
    }
   ],
   "source": [
    "# membuat list dari angka 10 sampai 20, dengan interval 2.\n",
    "# urutannya adalah: range(start, end, interval)\n",
    "xlist = list(range(10, 21, 2)) \n",
    "xlist\n"
   ]
  },
  {
   "cell_type": "markdown",
   "id": "56db838b-8f17-4c47-9f88-df8aa3762e34",
   "metadata": {},
   "source": [
    "### membuat list of list\n",
    "\n",
    "Untuk membuat list of list kita dapat melakukannya dengan menambahkan [ ] ke dalam *main list*. "
   ]
  },
  {
   "cell_type": "code",
   "execution_count": 24,
   "id": "dcdbc6eb-6572-471d-9937-5f6540c69bb6",
   "metadata": {},
   "outputs": [
    {
     "data": {
      "text/plain": [
       "[[10, 11], [12, 13], [14, 15]]"
      ]
     },
     "execution_count": 24,
     "metadata": {},
     "output_type": "execute_result"
    }
   ],
   "source": [
    "xy = [[10, 11],\n",
    "     [12, 13],\n",
    "     [14, 15]]\n",
    "xy"
   ]
  },
  {
   "cell_type": "code",
   "execution_count": 25,
   "id": "3c3de509-39e9-4bd0-a88e-aac84585369b",
   "metadata": {},
   "outputs": [
    {
     "data": {
      "text/plain": [
       "[['a'], ['b']]"
      ]
     },
     "execution_count": 25,
     "metadata": {},
     "output_type": "execute_result"
    }
   ],
   "source": [
    "zy = [[\"a\"], [\"b\"]]\n",
    "zy"
   ]
  },
  {
   "cell_type": "markdown",
   "id": "af9e870b-6a4c-4ee0-9f90-2cdc9d6a2c59",
   "metadata": {},
   "source": [
    "## **subsetting & slicing list**\n",
    "- Subsetting adalah metode untuk mengakses *value* tertentu yang ada pada list dengan menyebut nilai index. Setiap value yang ada pada list memiliki nilai index. Index adalah urutan. Pada bahasa pemrograman Python, index dimulai dari **0**. Untuk mengakses item tertentu yang ada pada list, dapat menggunakan **[ ]** (*square brackets*)\n",
    "\n",
    "- Slicing dapat dilakukan ketika kita hendak mengakses lebih dari satu item dengan index yang berurutan. Untuk melakukan slicing dapat menggunakan **\":\"**. \n",
    "\n",
    "            start_index : ending_index\n",
    "\n",
    "*ending index dianggap ekslusif. Artinya tidak akan ikut dieksekusi. Sehingga jika kita hendak slicing data dari index ke-2 hingga ke-6, yang kita lakukan adalah*\n",
    "\n",
    "variable_list[1:7]"
   ]
  },
  {
   "cell_type": "markdown",
   "id": "f8597233-969b-4b36-a8bd-793d1b7e1608",
   "metadata": {},
   "source": [
    "### Subsetting"
   ]
  },
  {
   "cell_type": "code",
   "execution_count": 37,
   "id": "7a80666b-f8c7-4d5d-97ef-140c6c0bb656",
   "metadata": {},
   "outputs": [
    {
     "data": {
      "text/plain": [
       "[1, 1, 2, 3, 4, 5, 5, 6, 6, 6]"
      ]
     },
     "execution_count": 37,
     "metadata": {},
     "output_type": "execute_result"
    }
   ],
   "source": [
    "list_c = [1, 1, 2, 3, 4, 5, 5, 6, 6, 6]\n",
    "list_c"
   ]
  },
  {
   "cell_type": "code",
   "execution_count": 36,
   "id": "ffeac361-6c35-4a77-b6ae-05b320987a0b",
   "metadata": {},
   "outputs": [
    {
     "data": {
      "text/plain": [
       "[1, 1.5, 2, 3, 4, 5, 5, 6, 6, 6]"
      ]
     },
     "execution_count": 36,
     "metadata": {},
     "output_type": "execute_result"
    }
   ],
   "source": [
    "list_c[1] = 1.5 #subsetting berdasarkan index value positif\n",
    "list_c"
   ]
  },
  {
   "cell_type": "code",
   "execution_count": 152,
   "id": "7607acb6-5b24-4710-a8e2-aa2825e480b8",
   "metadata": {},
   "outputs": [
    {
     "data": {
      "text/plain": [
       "6"
      ]
     },
     "execution_count": 152,
     "metadata": {},
     "output_type": "execute_result"
    }
   ],
   "source": [
    "list_c[-1] # subsetting -1 artinya mengakses element pertama dari belakang"
   ]
  },
  {
   "cell_type": "code",
   "execution_count": 39,
   "id": "5259f72b-3031-4772-a41f-2dbecb2e8def",
   "metadata": {},
   "outputs": [
    {
     "data": {
      "text/plain": [
       "6"
      ]
     },
     "execution_count": 39,
     "metadata": {},
     "output_type": "execute_result"
    }
   ],
   "source": [
    "list_c[-3] #  subsetting -3 artinya mengakses element ketiga dari belakang"
   ]
  },
  {
   "cell_type": "markdown",
   "id": "ba2c5c45-15b6-4830-a251-1a587a149992",
   "metadata": {},
   "source": [
    "### Slicing"
   ]
  },
  {
   "cell_type": "code",
   "execution_count": 40,
   "id": "46b5963c-1e04-410d-8562-523ad50ff46f",
   "metadata": {},
   "outputs": [
    {
     "data": {
      "text/plain": [
       "[1, 1, 2, 3, 4, 5, 5, 6, 6, 6]"
      ]
     },
     "execution_count": 40,
     "metadata": {},
     "output_type": "execute_result"
    }
   ],
   "source": [
    "list_c"
   ]
  },
  {
   "cell_type": "code",
   "execution_count": 42,
   "id": "85e5b716-e062-4502-aab1-1fe753216ef9",
   "metadata": {},
   "outputs": [
    {
     "data": {
      "text/plain": [
       "[3, 4, 5]"
      ]
     },
     "execution_count": 42,
     "metadata": {},
     "output_type": "execute_result"
    }
   ],
   "source": [
    "list_c[3:6] # start : end --> index pada end akan diabaikan, dan slicing berhenti index sebelumnya"
   ]
  },
  {
   "cell_type": "code",
   "execution_count": 45,
   "id": "ce0079c9-1b49-456e-bb3f-6924800af43c",
   "metadata": {},
   "outputs": [
    {
     "data": {
      "text/plain": [
       "[5, 5, 6, 6, 6]"
      ]
     },
     "execution_count": 45,
     "metadata": {},
     "output_type": "execute_result"
    }
   ],
   "source": [
    "# start : sampai element akhir --> (end-nya tidak didefinisikan)\n",
    "# ambil element ke-6 sampai index terakhir\n",
    "list_c[5:] "
   ]
  },
  {
   "cell_type": "code",
   "execution_count": 46,
   "id": "1d06872d-73c7-45b2-a3ac-ffb9b59c8520",
   "metadata": {},
   "outputs": [
    {
     "data": {
      "text/plain": [
       "[1, 1, 2, 3, 4]"
      ]
     },
     "execution_count": 46,
     "metadata": {},
     "output_type": "execute_result"
    }
   ],
   "source": [
    "# dari element awal : end --> (start-nya tidak didefinisikan) \n",
    "# ambil element awal sampai index ke 4)\n",
    "list_c[:5]"
   ]
  },
  {
   "cell_type": "markdown",
   "id": "f3f7e2c1-436e-4e5a-a053-aa5c663ee2c2",
   "metadata": {},
   "source": [
    "## List operations\n",
    "\n",
    "Seperti yang sudah dijelaskan di awal, List memiliki keterbatasan dalam hal mathematical operation. Untuk lebih jelasnya dapat dilihat pada contoh-contoh di bawah ini."
   ]
  },
  {
   "cell_type": "markdown",
   "id": "1221a927-2354-48df-9e8d-e8bc4c6d4a9f",
   "metadata": {},
   "source": [
    "### list operation dengan aritmatika\n",
    "\n",
    "Contoh kelemahan list, ketika kita hendak menggunakan operator aritmatika **+** maka list hanya akan menambahkan (*extending*) element-nya."
   ]
  },
  {
   "cell_type": "code",
   "execution_count": 186,
   "id": "c384a4a2-4909-49de-b88f-2c91b29a6797",
   "metadata": {},
   "outputs": [
    {
     "data": {
      "text/plain": [
       "[1, 2, 3, 4, 5, 6]"
      ]
     },
     "execution_count": 186,
     "metadata": {},
     "output_type": "execute_result"
    }
   ],
   "source": [
    "a_list = [1, 2, 3]\n",
    "b_list = [4, 5, 6]\n",
    "\n",
    "a_list + b_list"
   ]
  },
  {
   "cell_type": "markdown",
   "id": "445afee9-e9ca-4e0e-8a6b-e68eb5098e1e",
   "metadata": {},
   "source": [
    "Untuk melakukan kalkulasi matematika, yang bisa dilakukan adalah dengan mengakses value tertentu dan kalkulasi dengan value tertentu dari list lainnya. contoh:"
   ]
  },
  {
   "cell_type": "code",
   "execution_count": 188,
   "id": "23a8ce28-6aac-4602-842b-8adfcd8fbad9",
   "metadata": {},
   "outputs": [
    {
     "data": {
      "text/plain": [
       "9"
      ]
     },
     "execution_count": 188,
     "metadata": {},
     "output_type": "execute_result"
    }
   ],
   "source": [
    "a_list[2] + b_list[2]"
   ]
  },
  {
   "cell_type": "markdown",
   "id": "31ce1cf0-d58b-47d0-832f-fc823a7976b9",
   "metadata": {},
   "source": [
    "atau value tertentu dengan single value (bukan list)"
   ]
  },
  {
   "cell_type": "code",
   "execution_count": 191,
   "id": "d0045672-0bd7-476a-a058-7e934337b4ae",
   "metadata": {},
   "outputs": [
    {
     "data": {
      "text/plain": [
       "30"
      ]
     },
     "execution_count": 191,
     "metadata": {},
     "output_type": "execute_result"
    }
   ],
   "source": [
    "a_list[2] * 10"
   ]
  },
  {
   "cell_type": "markdown",
   "id": "3a410e7c-551c-412e-abf0-213e61a27633",
   "metadata": {},
   "source": [
    "### list operation dengan simpel statistical functions"
   ]
  },
  {
   "cell_type": "markdown",
   "id": "9f5ca2ca-4693-417f-ab39-c801e108eec3",
   "metadata": {},
   "source": [
    "Beberapa fungsi dasar statistik dapat digunakan pada list, misalnya: min(), max(), sum(). Sedangkan untuk mean() tidak dapat digunakan pada list. Sehingga perlu melakukannya secara manual, seperti pada contoh dibawah ini (see: \"mean a\")"
   ]
  },
  {
   "cell_type": "code",
   "execution_count": 48,
   "id": "6b542cb2-785f-4d2b-919f-9b4b8bfe73b6",
   "metadata": {
    "tags": []
   },
   "outputs": [
    {
     "data": {
      "text/plain": [
       "['mean a', 93.0, 'sum b', 175, 'minimum c', 85]"
      ]
     },
     "execution_count": 48,
     "metadata": {},
     "output_type": "execute_result"
    }
   ],
   "source": [
    "\n",
    "a = [90, 96]\n",
    "b = [95, 80]\n",
    "c = [95, 85]\n",
    "\n",
    "nilai_student = [\"mean a\", sum(a)/len(a), \n",
    "                 \"sum b\", sum(b),\n",
    "                 \"minimum c\", min(c)]\n",
    "nilai_student"
   ]
  },
  {
   "cell_type": "markdown",
   "id": "b8d35d51-f85e-4d71-b55d-6a660c1d6ce6",
   "metadata": {},
   "source": [
    "## Manipulasi List\n",
    "\n",
    "List merupakan python collection yang \"mutable\", artinya nilai yang ada pada list dapat diubah-ubah atau dimanipulasi. Hal itu berbeda dengan tuple yang \"immutable\". Pada contoh dibawah ini, coba perhatikan perbedaan antara list dan tuple"
   ]
  },
  {
   "cell_type": "markdown",
   "id": "ef631aed-bc3f-447b-9c57-fb9a99c96358",
   "metadata": {},
   "source": [
    "### Mengganti element pada list"
   ]
  },
  {
   "cell_type": "markdown",
   "id": "a3b63824-f92b-43d4-8e66-c0ff75971463",
   "metadata": {},
   "source": [
    "**Contoh pada tuple**"
   ]
  },
  {
   "cell_type": "code",
   "execution_count": 55,
   "id": "36913d14-09db-460a-8230-31c3214e3dbf",
   "metadata": {},
   "outputs": [
    {
     "name": "stdout",
     "output_type": "stream",
     "text": [
      "<class 'tuple'>\n",
      "('anggur', 'jeruk', 'sirsak', 'mangga')\n"
     ]
    }
   ],
   "source": [
    "# variable \"buah\" sebagai tuple\n",
    "buah = ('anggur', 'jeruk', 'sirsak', 'mangga')\n",
    "\n",
    "print(type(buah))\n",
    "print(buah)"
   ]
  },
  {
   "cell_type": "code",
   "execution_count": 56,
   "id": "88596887-9805-4bfc-8ab3-d79054fedf7a",
   "metadata": {},
   "outputs": [
    {
     "ename": "TypeError",
     "evalue": "'tuple' object does not support item assignment",
     "output_type": "error",
     "traceback": [
      "\u001b[0;31m---------------------------------------------------------------------------\u001b[0m",
      "\u001b[0;31mTypeError\u001b[0m                                 Traceback (most recent call last)",
      "\u001b[0;32m<ipython-input-56-277483cdee8a>\u001b[0m in \u001b[0;36m<module>\u001b[0;34m\u001b[0m\n\u001b[1;32m      1\u001b[0m \u001b[0;31m# Ganti \"sirsak\" dengan \"salak\"\u001b[0m\u001b[0;34m\u001b[0m\u001b[0;34m\u001b[0m\u001b[0;34m\u001b[0m\u001b[0m\n\u001b[0;32m----> 2\u001b[0;31m \u001b[0mbuah\u001b[0m\u001b[0;34m[\u001b[0m\u001b[0;36m2\u001b[0m\u001b[0;34m]\u001b[0m \u001b[0;34m=\u001b[0m \u001b[0;34m\"salak\"\u001b[0m \u001b[0;31m#dengan tuple tidak bisa dilakukan, karena tuple bersifat \"immutable\"\u001b[0m\u001b[0;34m\u001b[0m\u001b[0;34m\u001b[0m\u001b[0m\n\u001b[0m",
      "\u001b[0;31mTypeError\u001b[0m: 'tuple' object does not support item assignment"
     ]
    }
   ],
   "source": [
    "# Ganti \"sirsak\" dengan \"salak\"\n",
    "buah[2] = \"salak\" #dengan tuple tidak bisa dilakukan, karena tuple bersifat \"immutable\""
   ]
  },
  {
   "cell_type": "markdown",
   "id": "e78d4762-ff31-42cd-8ed0-2c669583afc7",
   "metadata": {},
   "source": [
    "**contoh pada list**"
   ]
  },
  {
   "cell_type": "code",
   "execution_count": 69,
   "id": "370cdc9a-b3e2-436a-930c-2abedf5879d5",
   "metadata": {},
   "outputs": [
    {
     "name": "stdout",
     "output_type": "stream",
     "text": [
      "<class 'list'>\n",
      "['anggur', 'jeruk', 'sirsak', 'mangga']\n"
     ]
    }
   ],
   "source": [
    "# ubah tuple buah menjadi bentuk list\n",
    "list_buah = list(buah)\n",
    "\n",
    "print(type(list_buah))\n",
    "print((list_buah))"
   ]
  },
  {
   "cell_type": "code",
   "execution_count": 58,
   "id": "47cbe6e9-1f15-462b-a6c8-8ed6c91f62d8",
   "metadata": {},
   "outputs": [
    {
     "data": {
      "text/plain": [
       "['anggur', 'jeruk', 'Salak', 'mangga']"
      ]
     },
     "execution_count": 58,
     "metadata": {},
     "output_type": "execute_result"
    }
   ],
   "source": [
    "# sekarang ganti \"sirsak\" dengan \"Salak\"\n",
    "list_buah[2] = \"Salak\" # BERHASIL, setelah tuple diubah menjadi list, operasi tersebut dapat dilakukan. Hal ini membuktikan bahwa list mutable dan berbeda dari tuple\n",
    "list_buah"
   ]
  },
  {
   "cell_type": "markdown",
   "id": "e7ce778a-4e7a-47d1-a67c-dba26e2119cf",
   "metadata": {},
   "source": [
    "Selain mengubah element pada list dengan menyebut urutan index, kita juga bisa menyebut \"value\"-nya dengan metode **.index()**"
   ]
  },
  {
   "cell_type": "code",
   "execution_count": 70,
   "id": "0ca6212b-7ac0-4ed7-8d9f-09ffeb10c5b1",
   "metadata": {},
   "outputs": [
    {
     "data": {
      "text/plain": [
       "['anggur', 'jeruk', 'sirsak', 'mangga', 'mangga']"
      ]
     },
     "execution_count": 70,
     "metadata": {},
     "output_type": "execute_result"
    }
   ],
   "source": [
    "list_buah.append(\"mangga\") # menambahkan element/value ke list\n",
    "list_buah"
   ]
  },
  {
   "cell_type": "code",
   "execution_count": 71,
   "id": "bd83b9ce-4b17-4ca4-801c-6a370e4eb039",
   "metadata": {},
   "outputs": [
    {
     "data": {
      "text/plain": [
       "3"
      ]
     },
     "execution_count": 71,
     "metadata": {},
     "output_type": "execute_result"
    }
   ],
   "source": [
    "list_buah.index(\"mangga\") # untuk mengetahui \"mangga\" ada pada index ke berapa?. Hanya untuk mangga yang disebut lebih dahulu"
   ]
  },
  {
   "cell_type": "code",
   "execution_count": 72,
   "id": "8befd5fd-bc74-4903-8f27-1dc2d00af182",
   "metadata": {},
   "outputs": [],
   "source": [
    "# mengganti value tanpa harus menyebut urutan index-nya\n",
    "list_buah[list_buah.index(\"mangga\")] = \"rambutan\" #Hanya untuk mengganti mangga yang disebut lebih dahulu"
   ]
  },
  {
   "cell_type": "code",
   "execution_count": 73,
   "id": "92e95832-d4c4-4659-a4c8-df96920b671f",
   "metadata": {},
   "outputs": [
    {
     "data": {
      "text/plain": [
       "['anggur', 'jeruk', 'sirsak', 'rambutan', 'mangga']"
      ]
     },
     "execution_count": 73,
     "metadata": {},
     "output_type": "execute_result"
    }
   ],
   "source": [
    "list_buah"
   ]
  },
  {
   "cell_type": "markdown",
   "id": "d018cf14-ff19-4eae-a8b5-5e275fa3fa59",
   "metadata": {},
   "source": [
    "### Menambahkan value pada list\n",
    "#### **.append()**\n",
    "\n",
    "untuk menambahkan value baru pada list setelah *element terakhir* dapat dilakukan dengan .append()"
   ]
  },
  {
   "cell_type": "code",
   "execution_count": 74,
   "id": "c4c16817-bc97-4bd5-a5d6-ed041fb197e3",
   "metadata": {},
   "outputs": [
    {
     "data": {
      "text/plain": [
       "['anggur', 'jeruk', 'sirsak', 'rambutan', 'mangga']"
      ]
     },
     "execution_count": 74,
     "metadata": {},
     "output_type": "execute_result"
    }
   ],
   "source": [
    "list_buah"
   ]
  },
  {
   "cell_type": "code",
   "execution_count": 75,
   "id": "20c26002-1ea9-4a91-9371-bf7b22574b44",
   "metadata": {},
   "outputs": [
    {
     "data": {
      "text/plain": [
       "['anggur', 'jeruk', 'sirsak', 'rambutan', 'mangga', 'sirsak']"
      ]
     },
     "execution_count": 75,
     "metadata": {},
     "output_type": "execute_result"
    }
   ],
   "source": [
    "list_buah.append(\"sirsak\") # menambahkan sirsak ke dalam list\n",
    "list_buah"
   ]
  },
  {
   "cell_type": "markdown",
   "id": "98dc272a-5729-4deb-8f81-a4b83ebb0985",
   "metadata": {},
   "source": [
    "#### **.insert()**\n",
    "\n",
    "untuk menambahkan value dengan index yang kita tentukan sendiri (*lokasi yang fleksible*)"
   ]
  },
  {
   "cell_type": "code",
   "execution_count": 76,
   "id": "3c9f2197-8f80-41b7-bc9c-ef1fd55721af",
   "metadata": {},
   "outputs": [
    {
     "data": {
      "text/plain": [
       "['anggur', 'Apel', 'jeruk', 'sirsak', 'rambutan', 'mangga', 'sirsak']"
      ]
     },
     "execution_count": 76,
     "metadata": {},
     "output_type": "execute_result"
    }
   ],
   "source": [
    "# menambahkan \"Apel\" ke list_buah di index ke-1\n",
    "list_buah.insert(1, \"Apel\")\n",
    "list_buah"
   ]
  },
  {
   "cell_type": "code",
   "execution_count": 77,
   "id": "91bfcbeb-2065-4ada-9dcb-585bd1a583c8",
   "metadata": {},
   "outputs": [
    {
     "data": {
      "text/plain": [
       "['anggur',\n",
       " 'Apel',\n",
       " 'jeruk',\n",
       " 'stroberi',\n",
       " 'sirsak',\n",
       " 'rambutan',\n",
       " 'mangga',\n",
       " 'sirsak']"
      ]
     },
     "execution_count": 77,
     "metadata": {},
     "output_type": "execute_result"
    }
   ],
   "source": [
    "# menambahkan \"Apel\" ke list_buah di index ke-4\n",
    "\n",
    "list_buah.insert(3, \"stroberi\")\n",
    "list_buah"
   ]
  },
  {
   "cell_type": "code",
   "execution_count": 85,
   "id": "36cb703a-9ca7-4c37-971e-d3155b1ca093",
   "metadata": {},
   "outputs": [],
   "source": [
    "list_buah.insert(5, 1.5)\n",
    "list_buah.insert(6, 1.7)"
   ]
  },
  {
   "cell_type": "markdown",
   "id": "601879b4-3d49-48a1-bf19-d3a97e3ab18c",
   "metadata": {},
   "source": [
    "### Sorting list values\n",
    "**.sort()**\n",
    "\n",
    "sorting (mengurutkan) value pada list. *By default* (dari sananya) reverse = False, artinya dari kecil ke terbesar. \n",
    "\n",
    "Namun sorting juga bisa dilakukan dari besar ke kecil:\n",
    "- mylist.sort(reverse = True)\n",
    "- mylist.reverse()"
   ]
  },
  {
   "cell_type": "code",
   "execution_count": 88,
   "id": "abd2a1f9-403e-408a-87d5-9a372b3ed357",
   "metadata": {
    "scrolled": true
   },
   "outputs": [
    {
     "data": {
      "text/plain": [
       "[10, 5, 16, 3, 17, 20]"
      ]
     },
     "execution_count": 88,
     "metadata": {},
     "output_type": "execute_result"
    }
   ],
   "source": [
    "list_acak = [10, 5, 16, 3, 17, 20]\n",
    "list_acak"
   ]
  },
  {
   "cell_type": "code",
   "execution_count": 89,
   "id": "8823eea1-5fa5-4293-8a7e-ebeb09582da6",
   "metadata": {},
   "outputs": [
    {
     "data": {
      "text/plain": [
       "[3, 5, 10, 16, 17, 20]"
      ]
     },
     "execution_count": 89,
     "metadata": {},
     "output_type": "execute_result"
    }
   ],
   "source": [
    "list_acak.sort() #dari kecil ke terbesar\n",
    "list_acak"
   ]
  },
  {
   "cell_type": "code",
   "execution_count": 90,
   "id": "cdbb9d40-446d-49b1-bb10-770d39b622c8",
   "metadata": {},
   "outputs": [
    {
     "data": {
      "text/plain": [
       "[20, 17, 16, 10, 5, 3]"
      ]
     },
     "execution_count": 90,
     "metadata": {},
     "output_type": "execute_result"
    }
   ],
   "source": [
    "list_acak.sort(reverse = True) # untuk sorting dari besar ke kecil\n",
    "list_acak"
   ]
  },
  {
   "cell_type": "markdown",
   "id": "f47c1e71-e9c9-4708-95c2-029e478910f4",
   "metadata": {},
   "source": [
    "### removing element pada list dengan .pop() atau .remove()\n",
    "\n",
    "- .pop() --- otomatis menghapus value pada element/index terakhir\n",
    "- .remove() -- menghapus value yang kita tentukan, dengan menyebutkan valuenya atau index-nya"
   ]
  },
  {
   "cell_type": "markdown",
   "id": "e375d76f-5ebf-4f9a-b4a6-f8c28baf51c3",
   "metadata": {},
   "source": [
    "#### **.pop()**"
   ]
  },
  {
   "cell_type": "code",
   "execution_count": 91,
   "id": "db5098de-c0e2-47d3-972d-4f9ddf034752",
   "metadata": {},
   "outputs": [
    {
     "data": {
      "text/plain": [
       "[10, 5, 16, 3, 17, 20]"
      ]
     },
     "execution_count": 91,
     "metadata": {},
     "output_type": "execute_result"
    }
   ],
   "source": [
    "list_a = [10, 5, 16, 3, 17, 20]\n",
    "list_a"
   ]
  },
  {
   "cell_type": "code",
   "execution_count": 92,
   "id": "2129514d-9741-4367-9a64-a427152610f7",
   "metadata": {},
   "outputs": [
    {
     "data": {
      "text/plain": [
       "20"
      ]
     },
     "execution_count": 92,
     "metadata": {},
     "output_type": "execute_result"
    }
   ],
   "source": [
    "list_a.pop()"
   ]
  },
  {
   "cell_type": "code",
   "execution_count": 94,
   "id": "4123b640-abb1-4dfc-9a1b-f9ea356b2272",
   "metadata": {},
   "outputs": [
    {
     "data": {
      "text/plain": [
       "[10, 5, 16, 3, 17]"
      ]
     },
     "execution_count": 94,
     "metadata": {},
     "output_type": "execute_result"
    }
   ],
   "source": [
    "list_a"
   ]
  },
  {
   "cell_type": "markdown",
   "id": "68cf0b24-59a1-4c53-b1f3-3e7dcbc01784",
   "metadata": {},
   "source": [
    "#### **.remove()**"
   ]
  },
  {
   "cell_type": "code",
   "execution_count": 95,
   "id": "d5e43a50-774e-44ca-8666-a2a4de600057",
   "metadata": {},
   "outputs": [
    {
     "data": {
      "text/plain": [
       "[5, 16, 3, 17]"
      ]
     },
     "execution_count": 95,
     "metadata": {},
     "output_type": "execute_result"
    }
   ],
   "source": [
    "list_a.remove(10) # dengan langsung menyebut valuenya\n",
    "list_a"
   ]
  },
  {
   "cell_type": "code",
   "execution_count": 96,
   "id": "b371cd4a-ac93-4633-be2f-63f5eb56e316",
   "metadata": {},
   "outputs": [],
   "source": [
    "list_a.remove(list_acak[2]) #remove value berdasarkan index-nya dengan subseting"
   ]
  },
  {
   "cell_type": "code",
   "execution_count": 98,
   "id": "a3e46c8e-f1a2-401e-a974-c6a7c210a76b",
   "metadata": {},
   "outputs": [
    {
     "data": {
      "text/plain": [
       "[5, 3, 17]"
      ]
     },
     "execution_count": 98,
     "metadata": {},
     "output_type": "execute_result"
    }
   ],
   "source": [
    "list_a"
   ]
  },
  {
   "cell_type": "markdown",
   "id": "6a16e678-0f60-49cc-b99d-bae31e08134d",
   "metadata": {},
   "source": [
    "## Check Frequency Values & Panjang element list"
   ]
  },
  {
   "cell_type": "markdown",
   "id": "42785014-1733-4e06-9389-6cb6e059f099",
   "metadata": {},
   "source": [
    "**.count() & .len() pada list**\n",
    "\n",
    "- count() untuk cek frequency value\n",
    "- len() untuk cek panjang value"
   ]
  },
  {
   "cell_type": "markdown",
   "id": "db6ba32d-9039-49b5-8b34-392d21554362",
   "metadata": {},
   "source": [
    "### .len() panjang element\n",
    "untuk mengecek panjang element"
   ]
  },
  {
   "cell_type": "code",
   "execution_count": 101,
   "id": "ad4eee57-c618-4a76-baec-7aeedcd6d532",
   "metadata": {},
   "outputs": [
    {
     "data": {
      "text/plain": [
       "[1, 1, 2, 3, 4, 5, 5, 6, 6, 6]"
      ]
     },
     "execution_count": 101,
     "metadata": {},
     "output_type": "execute_result"
    }
   ],
   "source": [
    "list_b = [1, 1, 2, 3, 4, 5, 5, 6, 6, 6,]\n",
    "list_b"
   ]
  },
  {
   "cell_type": "code",
   "execution_count": 100,
   "id": "a4aac618-2a64-4fa4-a0c4-2840a963e18e",
   "metadata": {},
   "outputs": [
    {
     "data": {
      "text/plain": [
       "10"
      ]
     },
     "execution_count": 100,
     "metadata": {},
     "output_type": "execute_result"
    }
   ],
   "source": [
    "# cek berapa panjang element pada list\n",
    "len(list_b)"
   ]
  },
  {
   "cell_type": "markdown",
   "id": "5d9e8d0b-7563-4a72-a7fb-c46e4caac207",
   "metadata": {},
   "source": [
    "### **.count()** frequency value\n",
    "untuk cek frequensi / seberapa sering sebuah value muncul/disebut dalam list"
   ]
  },
  {
   "cell_type": "code",
   "execution_count": 117,
   "id": "ba272c68-10ff-4c28-9088-26ce13f7a9e7",
   "metadata": {},
   "outputs": [
    {
     "data": {
      "text/plain": [
       "3"
      ]
     },
     "execution_count": 117,
     "metadata": {},
     "output_type": "execute_result"
    }
   ],
   "source": [
    "list_b.count(6) # berapa kali angka 6 muncul dalam list_b"
   ]
  },
  {
   "cell_type": "code",
   "execution_count": 110,
   "id": "93fd1176-4ef2-460d-9022-6a80a86e7812",
   "metadata": {},
   "outputs": [
    {
     "name": "stdout",
     "output_type": "stream",
     "text": [
      "angka dua: 1 kali\n"
     ]
    }
   ],
   "source": [
    "# cek frequensi / seberapa sering sebuah value muncul/disebut dalam list\n",
    "print(f\"angka dua: {list_b.count(2)} kali\")"
   ]
  },
  {
   "cell_type": "code",
   "execution_count": 115,
   "id": "93ea4b89-b8a6-41b8-801a-4e24e5a4ca6f",
   "metadata": {},
   "outputs": [
    {
     "data": {
      "text/plain": [
       "'4.0 angka'"
      ]
     },
     "execution_count": 115,
     "metadata": {},
     "output_type": "execute_result"
    }
   ],
   "source": [
    "a = 4.0\n",
    "b = \"angka\"\n",
    "\n",
    "f\"{a} {b}\""
   ]
  },
  {
   "cell_type": "markdown",
   "id": "c0ff3d25-257c-41df-b09e-ca926bf48530",
   "metadata": {},
   "source": [
    "# SET\n",
    "\n",
    "Set adalah Python collection yang hanya memungkinkan kita untuk menyimpan value/data yang \"unik\" saja. Dalam kata lain Set tidak dapat menyimpan value yang duplikat. Sehingga set ini sangat cocok digunakan jika kita hanya ingin menyimpan nilai yang \"unik\" dan mencegah adanya nilai yang duplikat."
   ]
  },
  {
   "cell_type": "markdown",
   "id": "ae5cb811-cc39-4203-92c0-b4c342278f75",
   "metadata": {},
   "source": [
    "contohnya, kita memiliki sebuah list_a dengan value [1, 1, 2, 3, 4, 5, 5, 6, 6, 6,]. Jika kita akan mengubahnya menjadi set, maka element yang duplikat akan hilang.\n",
    "\n",
    "Seperti pada contoh dibawah ini:"
   ]
  },
  {
   "cell_type": "code",
   "execution_count": 22,
   "id": "f66609e5-1b59-4c62-9ce6-fdc0308eec3f",
   "metadata": {},
   "outputs": [
    {
     "data": {
      "text/plain": [
       "[1, 1, 2, 3, 4, 5, 5, 6, 6, 6]"
      ]
     },
     "execution_count": 22,
     "metadata": {},
     "output_type": "execute_result"
    }
   ],
   "source": [
    "# contoh saat sebagai list\n",
    "\n",
    "list_a= [1, 1, 2, 3, 4, 5, 5, 6, 6, 6,]\n",
    "list_a"
   ]
  },
  {
   "cell_type": "code",
   "execution_count": 24,
   "id": "be416203-bfea-4e99-93b1-c66bac246c6d",
   "metadata": {},
   "outputs": [
    {
     "data": {
      "text/plain": [
       "{1, 2, 3, 4, 5, 6}"
      ]
     },
     "execution_count": 24,
     "metadata": {},
     "output_type": "execute_result"
    }
   ],
   "source": [
    "# contoh saat list sudah diubah menjadi set, nilai yang duplikat akan otomatis dihilangkan\n",
    "set_a = set(list_a)\n",
    "set_a"
   ]
  },
  {
   "cell_type": "code",
   "execution_count": 21,
   "id": "b04a14fd-7451-4d03-8640-0ba4fe00f7c2",
   "metadata": {},
   "outputs": [
    {
     "data": {
      "text/plain": [
       "set"
      ]
     },
     "execution_count": 21,
     "metadata": {},
     "output_type": "execute_result"
    }
   ],
   "source": [
    "type(set_a)"
   ]
  },
  {
   "cell_type": "markdown",
   "id": "ea86bb82-5995-441d-acba-7031ad81f304",
   "metadata": {
    "tags": [],
    "toc-hr-collapsed": true
   },
   "source": [
    "# NumPy Array"
   ]
  },
  {
   "cell_type": "markdown",
   "id": "87e1be49-26a7-4014-8d1c-dc7d2098c8bd",
   "metadata": {},
   "source": [
    "NumPy **(Numeric Python)** merupakan open source Python library yang sangat sering digunakan pada bidang data science dan analytic. NumPy merupakan *core* dari scientific numerical operation yang ada pada Python. Sehingga NumPy dianggap sangat powerful dalam melakukan berbagai operasi untuk jenis data \"numeric\".\n",
    "\n",
    "Untuk menggunakan Numpy kita perlu melakukan instalasi numpy library dan juga import library tersebut ke dalam IDE (Integarated Development Environmet). \n",
    "\n",
    "            pip install numpy\n",
    "            import numpy as np"
   ]
  },
  {
   "cell_type": "markdown",
   "id": "d82dd320-2683-49cd-b32d-3cd4b06213e8",
   "metadata": {},
   "source": [
    "## Apa itu Array?"
   ]
  },
  {
   "cell_type": "markdown",
   "id": "6357125b-0748-4a51-b189-cf8f52491311",
   "metadata": {},
   "source": [
    "Array merupakan *central data structure* dari NumPy library. Array terdiri dari nilai yang memuat informasi *raw data*. Nilai-nilai yang disimpan pada array biasa disebut sebagai **element** dan setiap element tersebut memiliki **index values**. Urutan index dimulai dari index **0**.\n",
    "\n",
    "Array dapat terdiri dari berbagai dimensi. Mulai dari 1D, 2D, 3D dan seterusnya. Pada pelajaran kali ini kita akan lebih banyak fokus pada 1D dan 2D array. Pada NumPy, dimension biasa disebut juga sebagai **axis**.\n",
    "\n",
    "1D array hanya memiliki 1 axis. Sedangkan pada 2D array memiliki 2 axis, dimana axis pertama bersifat vertical (seperti **row**) dan axis kedua bersifat horizontal (seperti **column**).\n",
    "\n",
    "Misalnya, pada 2D array dibawah ini:\n",
    "\n",
    "                [[0., 0., 0.],\n",
    "                 [1., 1., 1.]]\n",
    "* Memiliki panjang axis pertama (vertical) = 2\n",
    "* Memiliki panjang axis kedua (horizontal) = 3"
   ]
  },
  {
   "cell_type": "markdown",
   "id": "20572a37-e5da-4466-a7cd-88fa04f7cb87",
   "metadata": {},
   "source": [
    "## Membuat Basic Array"
   ]
  },
  {
   "cell_type": "markdown",
   "id": "c863f544-4ccf-41ff-a761-0a4db295a8f0",
   "metadata": {},
   "source": [
    "Untuk membuat array, ada beberapa cara yang dapat dilakukan. Diantaranya dengan menggunakan fungsi-fungsi berikut:\n",
    "* np.array()\n",
    "* np.zeros()\n",
    "* np.ones()\n",
    "* np.random.rand(), np.random.randint()\n",
    "* np.arange()\n",
    "\n",
    "Untuk menjalankan fungsi-fungsi diatas, kita perlu import library numpy terlebih dahulu. Untuk membuat array dengan lebih dari satu value, kita perlu menempatkan value ke dalam **[ ]**, dan antara value dipisahkan dengan **,** (koma)"
   ]
  },
  {
   "cell_type": "code",
   "execution_count": 2,
   "id": "bc63a72d-2a66-4256-8ca6-4dc11ebb8ee5",
   "metadata": {},
   "outputs": [],
   "source": [
    "import numpy as np"
   ]
  },
  {
   "cell_type": "markdown",
   "id": "15be09d8-9099-41c4-a5ae-f26bdbe60603",
   "metadata": {},
   "source": [
    "### np.array()\n",
    "\n",
    "Cara yang paling simpel dan sering digunakan adalah dengan menggunakan np.array(). "
   ]
  },
  {
   "cell_type": "code",
   "execution_count": 3,
   "id": "b74415d2-427e-4d13-9bc4-85450e0b70bb",
   "metadata": {},
   "outputs": [
    {
     "data": {
      "text/plain": [
       "array([1, 1, 2, 3, 4, 5, 5, 6, 6, 6])"
      ]
     },
     "execution_count": 3,
     "metadata": {},
     "output_type": "execute_result"
    }
   ],
   "source": [
    "# Membuat 1D Array\n",
    "a_array = np.array([1, 1, 2, 3, 4, 5, 5, 6, 6, 6])\n",
    "a_array"
   ]
  },
  {
   "cell_type": "code",
   "execution_count": 4,
   "id": "1a048b30-f482-4085-924c-4a6dcdc32eea",
   "metadata": {},
   "outputs": [
    {
     "data": {
      "text/plain": [
       "numpy.ndarray"
      ]
     },
     "execution_count": 4,
     "metadata": {},
     "output_type": "execute_result"
    }
   ],
   "source": [
    "type(a_array)"
   ]
  },
  {
   "cell_type": "code",
   "execution_count": 130,
   "id": "10156535-6250-4a13-8329-43fa31de868f",
   "metadata": {},
   "outputs": [
    {
     "data": {
      "text/plain": [
       "array([[ 1,  2,  3,  4,  5],\n",
       "       [ 6,  7,  8,  9, 10]])"
      ]
     },
     "execution_count": 130,
     "metadata": {},
     "output_type": "execute_result"
    }
   ],
   "source": [
    "# Membuat 2D array\n",
    "b = np.array([[1, 2, 3, 4, 5],\n",
    "            [6, 7, 8, 9, 10]])\n",
    "b"
   ]
  },
  {
   "cell_type": "markdown",
   "id": "4c50d51b-207a-4da7-8932-8908f95071ed",
   "metadata": {},
   "source": [
    "### np.zeros() & np.ones()\n",
    "\n",
    "np.zeros() digunakan ketika hendak membuat array yang memiliki value **0**. Sedangkan np.ones() digunakan ketika hendak membuat array yang memiliki value **1**."
   ]
  },
  {
   "cell_type": "code",
   "execution_count": 131,
   "id": "c78dcf4c-fd1a-4e2f-8de6-f38cefbfcc06",
   "metadata": {},
   "outputs": [
    {
     "data": {
      "text/plain": [
       "array([0., 0., 0., 0., 0.])"
      ]
     },
     "execution_count": 131,
     "metadata": {},
     "output_type": "execute_result"
    }
   ],
   "source": [
    "# buat array dengan value 0 dan panjang elementnya 5\n",
    "zero = np.zeros(5)\n",
    "zero"
   ]
  },
  {
   "cell_type": "code",
   "execution_count": 132,
   "id": "8a76e4a3-5560-4501-97bd-334a1052a192",
   "metadata": {},
   "outputs": [
    {
     "data": {
      "text/plain": [
       "array([1., 1., 1., 1., 1.])"
      ]
     },
     "execution_count": 132,
     "metadata": {},
     "output_type": "execute_result"
    }
   ],
   "source": [
    "# buat array dengan value 1 dan panjang elementnya 5\n",
    "\n",
    "ones = np.ones(5)\n",
    "ones"
   ]
  },
  {
   "cell_type": "markdown",
   "id": "d30e94bf-a181-4eff-a931-1aeec86398b0",
   "metadata": {},
   "source": [
    "### np.random.rand() & np.random.randint()\n",
    "\n",
    "np.random adalah metode yang dapat digunakan untuk membuat array dengan random value. Ada beberapa cara yang bisa digunakan."
   ]
  },
  {
   "cell_type": "markdown",
   "id": "55aad4a6-8ede-431b-b6fe-795c7ad0bbaf",
   "metadata": {},
   "source": [
    "#### np.random.rand()\n",
    "untuk membuat array dengan random value yang terletak antara **0** dan **1**"
   ]
  },
  {
   "cell_type": "code",
   "execution_count": 137,
   "id": "5a042acd-08ed-40ba-921e-985dcc9723c1",
   "metadata": {},
   "outputs": [
    {
     "data": {
      "text/plain": [
       "array([0.30982027, 0.28810206, 0.85089779, 0.61826552, 0.69819395,\n",
       "       0.23719096, 0.25225795, 0.90421444, 0.41217479, 0.95058248])"
      ]
     },
     "execution_count": 137,
     "metadata": {},
     "output_type": "execute_result"
    }
   ],
   "source": [
    "# membuat array (value >0 dan < 1) dengan 10 element.\n",
    "\n",
    "rand = np.random.rand(10)\n",
    "rand"
   ]
  },
  {
   "cell_type": "markdown",
   "id": "6c61f347-58f0-48f2-aea3-42a130c776fb",
   "metadata": {},
   "source": [
    "#### np.random.randint()\n",
    "untuk membuat array dengan random value yang berbentuk bilangan bulat atau **integer**"
   ]
  },
  {
   "cell_type": "code",
   "execution_count": 178,
   "id": "9e3f7e5e-83d9-4adc-a484-da322d4a707d",
   "metadata": {},
   "outputs": [
    {
     "data": {
      "text/plain": [
       "array([3, 4, 8, 7, 2, 2, 9, 1, 8, 9])"
      ]
     },
     "execution_count": 178,
     "metadata": {},
     "output_type": "execute_result"
    }
   ],
   "source": [
    "# membuat array random value antara 1 dan 10, dengan panjang element 5\n",
    "\n",
    "randint = np.random.randint(1, 10, size = 10)\n",
    "randint"
   ]
  },
  {
   "cell_type": "markdown",
   "id": "13762987-340a-47db-96f1-9347c6b19379",
   "metadata": {},
   "source": [
    "### np.arange()\n",
    "\n",
    "np.arange() dapat digunakan untuk membuat array dengan range value tertentu, dan juga dapat didefinisikan interval (jarak) antar value tersebut.\n",
    "\n",
    "            np.arange(start, end, interval)"
   ]
  },
  {
   "cell_type": "code",
   "execution_count": 181,
   "id": "2439edd1-cf8c-45e9-87e9-757cf315a3b0",
   "metadata": {},
   "outputs": [
    {
     "data": {
      "text/plain": [
       "[1, 3, 5, 7, 9]"
      ]
     },
     "execution_count": 181,
     "metadata": {},
     "output_type": "execute_result"
    }
   ],
   "source": [
    "a = list(range(1, 10, 2)) \n",
    "a"
   ]
  },
  {
   "cell_type": "code",
   "execution_count": 182,
   "id": "beea50c1-4111-4514-9d00-3861015a6950",
   "metadata": {},
   "outputs": [
    {
     "data": {
      "text/plain": [
       "array([1, 4, 7])"
      ]
     },
     "execution_count": 182,
     "metadata": {},
     "output_type": "execute_result"
    }
   ],
   "source": [
    "# array dengan value dari 1 hingga 10, dengan interval 3\n",
    "\n",
    "arange = np.arange(1, 10, 3)\n",
    "arange"
   ]
  },
  {
   "cell_type": "markdown",
   "id": "b0f9a257-ff0c-49e5-a2a8-ba08babc310b",
   "metadata": {},
   "source": [
    "## Manipulasi array: Sorting, Concatenate, append Array\n",
    "\n",
    "sorting array dapat dilakukan ketika kita hendak mengurutkan value yang ada pada array dari kecil ke besar (*ascending*) ataupun dari besar ke kecil (*descending*).\n",
    "\n",
    "dan concatenate dilakukan ketika kita hendak menggabungkan element suatu array dengan element pada array lain."
   ]
  },
  {
   "cell_type": "markdown",
   "id": "4834c147-e3d5-4502-a101-28c90137ed42",
   "metadata": {},
   "source": [
    "### sorting array"
   ]
  },
  {
   "cell_type": "code",
   "execution_count": 8,
   "id": "e9d35b5f-1151-4f5d-9657-2fb7bf8f3e0a",
   "metadata": {},
   "outputs": [],
   "source": [
    "a = np.array([90, 70, 100, 65, 75, 74, 59, 84])"
   ]
  },
  {
   "cell_type": "code",
   "execution_count": 74,
   "id": "97d5b555-b771-46ea-8d2a-2beca0043f24",
   "metadata": {},
   "outputs": [
    {
     "data": {
      "text/plain": [
       "array([ 59,  65,  70,  74,  75,  84,  90, 100])"
      ]
     },
     "execution_count": 74,
     "metadata": {},
     "output_type": "execute_result"
    }
   ],
   "source": [
    "# sorting nilai siswa dari kecil ke besar\n",
    "\n",
    "np.sort(a)"
   ]
  },
  {
   "cell_type": "code",
   "execution_count": 69,
   "id": "e7dc021a-0701-4b57-bf99-84642ba7f8c4",
   "metadata": {},
   "outputs": [
    {
     "data": {
      "text/plain": [
       "array([100,  90,  84,  75,  74,  70,  65,  59])"
      ]
     },
     "execution_count": 69,
     "metadata": {},
     "output_type": "execute_result"
    }
   ],
   "source": [
    "# sorting nilai siswa dari besar ke kecil\n",
    "\n",
    "np.sort(a)[::-1]"
   ]
  },
  {
   "cell_type": "markdown",
   "id": "46cd0d36-5000-4d0a-ba0b-9f50276d55b2",
   "metadata": {},
   "source": [
    "### np.concatenate() function\n",
    "untuk melakukan concatenate / menggabungkan beberapa array menjadi satu"
   ]
  },
  {
   "cell_type": "code",
   "execution_count": 193,
   "id": "d78ba028-4343-406f-b585-b92bdbe7f0de",
   "metadata": {},
   "outputs": [],
   "source": [
    "a = np.array([90, 70, 100, 65, 75, 74, 59, 84])\n",
    "b = np.array([40, 60])"
   ]
  },
  {
   "cell_type": "code",
   "execution_count": 201,
   "id": "7e45d316-93f4-40e1-bb5a-08dbcfac4f7a",
   "metadata": {},
   "outputs": [
    {
     "data": {
      "text/plain": [
       "array([ 90,  70, 100,  65,  75,  74,  59,  84,  40,  60])"
      ]
     },
     "execution_count": 201,
     "metadata": {},
     "output_type": "execute_result"
    }
   ],
   "source": [
    "# concatenate array a and b\n",
    "\n",
    "c = np.concatenate((a, b))\n",
    "c"
   ]
  },
  {
   "cell_type": "markdown",
   "id": "35cb911e-2067-4066-adef-e95bdd3ec063",
   "metadata": {},
   "source": [
    "## append()\n",
    "untuk menambahkan element baru ke dalam sebuah array"
   ]
  },
  {
   "cell_type": "code",
   "execution_count": 199,
   "id": "b2354b02-f428-4ea0-8d6e-c2d42d0545b3",
   "metadata": {},
   "outputs": [
    {
     "data": {
      "text/plain": [
       "array([ 80,  90,  70, 100,  65,  75,  74,  59,  84,  40,  60])"
      ]
     },
     "execution_count": 199,
     "metadata": {},
     "output_type": "execute_result"
    }
   ],
   "source": [
    "# menambahkan 80 ke urutan pertama array\n",
    "np.append(80, c)"
   ]
  },
  {
   "cell_type": "code",
   "execution_count": 197,
   "id": "51b65a74-aa83-4898-af31-d61507d0b1ea",
   "metadata": {
    "tags": []
   },
   "outputs": [
    {
     "data": {
      "text/plain": [
       "array([ 90,  70, 100,  65,  75,  74,  59,  84,  40,  60,  70])"
      ]
     },
     "execution_count": 197,
     "metadata": {},
     "output_type": "execute_result"
    }
   ],
   "source": [
    "# menambahkan 70 keurutan terakhir array\n",
    "np.append(c, 70)"
   ]
  },
  {
   "cell_type": "markdown",
   "id": "5dbdac7a-fd4b-4c93-b050-c37b52ed3e80",
   "metadata": {},
   "source": [
    "## Shape, Reshape and Convert Dimension Array"
   ]
  },
  {
   "cell_type": "markdown",
   "id": "60654b53-1867-417f-9316-8affdd33dc3f",
   "metadata": {},
   "source": [
    "### check dimensi, size, shape"
   ]
  },
  {
   "cell_type": "markdown",
   "id": "e0aee393-307b-4be8-b7b4-02ede0997c59",
   "metadata": {},
   "source": [
    "Array memiliki dimensi, shape, dan size element. Kita dapat mengeceknya menggunakan:\n",
    "\n",
    "* ndarray.ndim  -> untuk mengecek jumlah dimensi atau axis pada array\n",
    "* ndarray.size  -> untuk mengecek size/jumlah element pada array\n",
    "* ndarray.shape -> untuk mengecek shape atau jumlah rows & column) pada array"
   ]
  },
  {
   "cell_type": "code",
   "execution_count": 203,
   "id": "588465ae-5a00-4cff-a257-223445a59d81",
   "metadata": {},
   "outputs": [],
   "source": [
    "array_example = np.array([[0, 1, 2, 3],\n",
    "                          [4, 5, 6, 7],\n",
    "                          [0, 1, 2, 3],\n",
    "                          [4, 5, 6, 7]])"
   ]
  },
  {
   "cell_type": "code",
   "execution_count": 204,
   "id": "dd1b1446-2c96-4b9e-96e2-d5bb46b32435",
   "metadata": {},
   "outputs": [
    {
     "data": {
      "text/plain": [
       "2"
      ]
     },
     "execution_count": 204,
     "metadata": {},
     "output_type": "execute_result"
    }
   ],
   "source": [
    "# check jumlah dimensi pada array_example\n",
    "array_example.ndim"
   ]
  },
  {
   "cell_type": "code",
   "execution_count": 207,
   "id": "6476fceb-b80f-49ab-a1de-9c57bbaf1e77",
   "metadata": {},
   "outputs": [
    {
     "data": {
      "text/plain": [
       "16"
      ]
     },
     "execution_count": 207,
     "metadata": {},
     "output_type": "execute_result"
    }
   ],
   "source": [
    "# check jumlah element pada array_example\n",
    "array_example.size"
   ]
  },
  {
   "cell_type": "code",
   "execution_count": 89,
   "id": "3d305854-54db-418e-bd5c-57e72a6ef724",
   "metadata": {},
   "outputs": [
    {
     "data": {
      "text/plain": [
       "(4, 4)"
      ]
     },
     "execution_count": 89,
     "metadata": {},
     "output_type": "execute_result"
    }
   ],
   "source": [
    "# check shape (jumlah rows and column) pada array_example\n",
    "array_example.shape"
   ]
  },
  {
   "cell_type": "code",
   "execution_count": 208,
   "id": "bbbe79ed-8038-4cf4-9b0a-26912e1a052f",
   "metadata": {},
   "outputs": [
    {
     "data": {
      "text/plain": [
       "array([ 90,  70, 100,  65,  75,  74,  59,  84,  40,  60])"
      ]
     },
     "execution_count": 208,
     "metadata": {},
     "output_type": "execute_result"
    }
   ],
   "source": [
    "c"
   ]
  },
  {
   "cell_type": "code",
   "execution_count": 209,
   "id": "1a9a8fba-a113-482d-92e8-bea7cda346cf",
   "metadata": {},
   "outputs": [
    {
     "data": {
      "text/plain": [
       "(10,)"
      ]
     },
     "execution_count": 209,
     "metadata": {},
     "output_type": "execute_result"
    }
   ],
   "source": [
    "c.shape"
   ]
  },
  {
   "cell_type": "markdown",
   "id": "a52f8a04-e75a-4c11-ba16-ea08bd74a303",
   "metadata": {},
   "source": [
    "### Reshape & Change dimension array\n",
    "\n",
    "Untuk reshape bentuk array, kita dapat melakukannya dengan:\n",
    "* np.reshape(array_name, newshape = (rows, columns) )\n",
    "\n",
    "untuk menentukan jumlah rows dan columns, harus memperhatikan size element pada numpy tersebut. Contohnya, jika sizenya adalah 20. maka dapat dibuat dengan perpaduan: rows x columns = 20\n",
    "\n",
    "    4 x 5\n",
    "* 4 rows, 5 columns atau 5 rows, 4 columns\n",
    "\n",
    "    10 x 2\n",
    "* 10 rows, 2 column atau 2 rows, 5 columns\n",
    "\n",
    "jika size 20, maka tidak bisa di reshape dengan perpaduan\n",
    "3 rows, 8 columns\n",
    "\n",
    "karena 3 x 8 != 20"
   ]
  },
  {
   "cell_type": "code",
   "execution_count": 7,
   "id": "fcbcfb87-4c2b-4057-8187-e1a07b6cd4d1",
   "metadata": {},
   "outputs": [
    {
     "data": {
      "text/plain": [
       "array([ 1,  2,  3,  4,  5,  6,  7,  8,  9, 10, 11, 12, 13, 14, 15, 16, 17,\n",
       "       18, 19, 20])"
      ]
     },
     "execution_count": 7,
     "metadata": {},
     "output_type": "execute_result"
    }
   ],
   "source": [
    "a = np.arange(1, 21)\n",
    "a"
   ]
  },
  {
   "cell_type": "code",
   "execution_count": 8,
   "id": "4152276a-4003-4a5f-a1f5-f0c2ebe646bc",
   "metadata": {},
   "outputs": [
    {
     "name": "stdout",
     "output_type": "stream",
     "text": [
      "shape array: (20,)\n",
      "dimensi array: 1\n",
      "size array: 20\n"
     ]
    }
   ],
   "source": [
    "print(f\"shape array: {a.shape}\")\n",
    "print(f\"dimensi array: {a.ndim}\")\n",
    "print(f\"size array: {a.size}\")"
   ]
  },
  {
   "cell_type": "code",
   "execution_count": 9,
   "id": "49dbb688-78d2-4266-b3b5-55e4e33b322e",
   "metadata": {},
   "outputs": [
    {
     "data": {
      "text/plain": [
       "array([[ 1,  2,  3,  4,  5],\n",
       "       [ 6,  7,  8,  9, 10],\n",
       "       [11, 12, 13, 14, 15],\n",
       "       [16, 17, 18, 19, 20]])"
      ]
     },
     "execution_count": 9,
     "metadata": {},
     "output_type": "execute_result"
    }
   ],
   "source": [
    "# karena size array 20, maka kita bisa reshape menjadi 5 columns dan 4 rows, atau 4 columns dan 5 rows\n",
    "\n",
    "b = np.reshape(a, newshape = (4, 5))\n",
    "b"
   ]
  },
  {
   "cell_type": "code",
   "execution_count": 218,
   "id": "382aa90a-dd2e-43c9-a5fb-d18bd2956500",
   "metadata": {},
   "outputs": [
    {
     "name": "stdout",
     "output_type": "stream",
     "text": [
      "shape array: (4, 5)\n",
      "dimensi array: 2\n",
      "size array: 20\n"
     ]
    }
   ],
   "source": [
    "print(f\"shape array: {b.shape}\")\n",
    "print(f\"dimensi array: {b.ndim}\")\n",
    "print(f\"size array: {b.size}\")"
   ]
  },
  {
   "cell_type": "markdown",
   "id": "f16ba54b-d284-4822-9dd6-eea3c62568c9",
   "metadata": {},
   "source": [
    "Selain merubah 1D menjadi 2D, 3D dan seterusnya. Kita juga dapat mengubah *multidimensional array* menjadi *flat* atau 1D, dengan menggunakan **np.ravel()**"
   ]
  },
  {
   "cell_type": "code",
   "execution_count": 219,
   "id": "c5904731-d317-4248-be96-0b96320dcc4f",
   "metadata": {},
   "outputs": [
    {
     "data": {
      "text/plain": [
       "array([ 1,  2,  3,  4,  5,  6,  7,  8,  9, 10, 11, 12, 13, 14, 15, 16, 17,\n",
       "       18, 19, 20])"
      ]
     },
     "execution_count": 219,
     "metadata": {},
     "output_type": "execute_result"
    }
   ],
   "source": [
    "c = np.ravel(b)\n",
    "c"
   ]
  },
  {
   "cell_type": "markdown",
   "id": "efb6d0d3-8231-4e3b-8c5f-3773aa397bd0",
   "metadata": {
    "tags": []
   },
   "source": [
    "## Subsetting & Slicing\n",
    "\n",
    "Sama seperti list dan tuple, index array juga dimulai dari 0. Dan memiliki cara yang sama ketika hendak mengakses dan slicing nilai berdasarkan index values. yaitu dengan menggunakan **\"[ ]\"** dan juga **\":\"** untuk slicing. "
   ]
  },
  {
   "cell_type": "markdown",
   "id": "1568a379-8158-4b40-ab5d-f6cb120c8040",
   "metadata": {},
   "source": [
    "### subsetting & slicing 1D array"
   ]
  },
  {
   "cell_type": "code",
   "execution_count": 220,
   "id": "45912133-ef9c-45dd-86ab-a0ecb7cae56f",
   "metadata": {},
   "outputs": [
    {
     "data": {
      "text/plain": [
       "array([ 1,  2,  3,  4,  5,  6,  7,  8,  9, 10])"
      ]
     },
     "execution_count": 220,
     "metadata": {},
     "output_type": "execute_result"
    }
   ],
   "source": [
    "data = np.arange(1, 11)\n",
    "data"
   ]
  },
  {
   "cell_type": "code",
   "execution_count": 221,
   "id": "4b47706b-4b28-4459-96bc-8cbb0eaa4b0c",
   "metadata": {},
   "outputs": [
    {
     "data": {
      "text/plain": [
       "2"
      ]
     },
     "execution_count": 221,
     "metadata": {},
     "output_type": "execute_result"
    }
   ],
   "source": [
    "data[1]"
   ]
  },
  {
   "cell_type": "markdown",
   "id": "4d5d07cf-e56f-4b02-a6d8-7c676d5b45af",
   "metadata": {},
   "source": [
    "Sama seperti pada list dan tuple, slicing akan stop pada index sebelum index terakhir yang disebutkan.\n",
    "\n",
    "        start     :   end\n",
    "        (inklusif)  (ekslusif)"
   ]
  },
  {
   "cell_type": "code",
   "execution_count": 222,
   "id": "3be1c2eb-d9a9-4d93-8771-3a446228c370",
   "metadata": {},
   "outputs": [
    {
     "data": {
      "text/plain": [
       "array([4, 5, 6, 7])"
      ]
     },
     "execution_count": 222,
     "metadata": {},
     "output_type": "execute_result"
    }
   ],
   "source": [
    "# slicing index ke-3 hingga ke-6\n",
    "\n",
    "data[3:7]"
   ]
  },
  {
   "cell_type": "markdown",
   "id": "45e54303-f21f-401b-82d0-16b6d0176f43",
   "metadata": {},
   "source": [
    "Seperti pada list & tuple, kita juga bisa mengakses element pada numpy array dengan menggunakan negative index value."
   ]
  },
  {
   "cell_type": "code",
   "execution_count": 223,
   "id": "bc668dc0-6442-4d09-bff3-ab5d61c0a272",
   "metadata": {},
   "outputs": [
    {
     "data": {
      "text/plain": [
       "9"
      ]
     },
     "execution_count": 223,
     "metadata": {},
     "output_type": "execute_result"
    }
   ],
   "source": [
    "# pilih value kedua dari belakang\n",
    "data[-2]"
   ]
  },
  {
   "cell_type": "code",
   "execution_count": 224,
   "id": "a2e962ba-0385-4a16-8dbe-ae514830508c",
   "metadata": {},
   "outputs": [
    {
     "data": {
      "text/plain": [
       "array([10,  6,  2])"
      ]
     },
     "execution_count": 224,
     "metadata": {},
     "output_type": "execute_result"
    }
   ],
   "source": [
    "# pilih tiga value dari belakang, dengan jumping index\n",
    "data[-1::-4] #-4 interval index"
   ]
  },
  {
   "cell_type": "markdown",
   "id": "2a9d7f38-e2b8-43c8-8e76-cb5aaa54a813",
   "metadata": {},
   "source": [
    "Selain itu, kita juga dapat mengakses (subsetting) array menggunakan kondisi tertentu dengan menerapkan \"comparison operator\" yang akan kita pelajari pada pertemuan khusus."
   ]
  },
  {
   "cell_type": "markdown",
   "id": "4016fd2d-1f93-4f0f-b3a6-f1c492beb465",
   "metadata": {},
   "source": [
    "### Subsetting & Slicing 2D array\n",
    "\n",
    "Karena dalam 2D array terdapat axis (rows & columns) maka cara mengakses value pada 2D array sedikit berbeda dengan yang biasa kita lakukan pada 1D array atau pada tuple & list.\n",
    "\n",
    "Kita perlu mendefinisikan 2 hal ketika ingin mengakses 2D array:\n",
    "\n",
    "            data[row_index, column_index]\n",
    "            \n",
    "Cara subsetting dan slicing 2D array juga akan diimplementasikan ketika kita sudah mulai menggunakan DataFrame, yang akan dipelajari pada modul pertemuan berikutnya."
   ]
  },
  {
   "cell_type": "code",
   "execution_count": 225,
   "id": "d0c112fb-d610-47a0-887d-a24077e304aa",
   "metadata": {},
   "outputs": [],
   "source": [
    "# contoh 2D array\n",
    "array_2d = np.array([[ 1,  2,  3,  4,  5],\n",
    "                     [ 6,  7,  8,  9, 10],\n",
    "                     [11, 12, 13, 14, 15],\n",
    "                     [16, 17, 18, 19, 20]])"
   ]
  },
  {
   "cell_type": "code",
   "execution_count": 227,
   "id": "38ae4bed-8bda-4f91-b2b1-cce50aad2388",
   "metadata": {},
   "outputs": [
    {
     "data": {
      "text/plain": [
       "16"
      ]
     },
     "execution_count": 227,
     "metadata": {},
     "output_type": "execute_result"
    }
   ],
   "source": [
    "# pilih angka 12 pada array_2D\n",
    "# lokasi angka 12 ada pada row index ke-2 dan column index ke-1\n",
    "\n",
    "array_2d[3, 0]"
   ]
  },
  {
   "cell_type": "code",
   "execution_count": 237,
   "id": "5dbe509e-ef02-49cd-ae7c-9e6de481a8c3",
   "metadata": {},
   "outputs": [
    {
     "data": {
      "text/plain": [
       "array([[ 8,  9],\n",
       "       [13, 14],\n",
       "       [18, 19]])"
      ]
     },
     "execution_count": 237,
     "metadata": {},
     "output_type": "execute_result"
    }
   ],
   "source": [
    "# pilih row ke 1 hingga ke 3, pada column ke-2 dan ke-3\n",
    "\n",
    "array_2d[1:4, 2:4] "
   ]
  },
  {
   "cell_type": "markdown",
   "id": "ce27709b-1590-44e6-8187-842673233d50",
   "metadata": {},
   "source": [
    "## Array Operations\n",
    "\n",
    "Dibandingkan dengan list & tuple, NumPy array sangat powerful dalam melakukan berbagai \"numeric operations\". Misalnya, ketika kita hendak menggunakan operator aritmatika, maka NumPy akan memperlakukannya sebagai \"metric calculation\". Untuk lebih jelasnya dapat kita lihat pada contoh-contoh dibawah ini:"
   ]
  },
  {
   "cell_type": "markdown",
   "id": "2dc70493-c840-4094-bcc9-4883981a3ba5",
   "metadata": {},
   "source": [
    "### Operasi Aritmatik: array dengan array"
   ]
  },
  {
   "cell_type": "markdown",
   "id": "7b449895-9bb7-4a98-b873-fbf68282dcde",
   "metadata": {},
   "source": [
    "Ketika kita melakukan mathematical operation antara dua array dengan panjang element yang sama, maka setiap element pada index yang sama dari masing-masing array akan secara otomatis menjalankan operasi tersebut. \n",
    "\n",
    "Pada contoh dibawah ini dapat diperhatikan, angka **2 dari array_a** akan dikalikan dengan **angka 10 dari array_b**, karena keduanya **sama-sama terletak pada index ke-0**. Begitu juga terjadi pada setiap element di index selanjutnya."
   ]
  },
  {
   "cell_type": "code",
   "execution_count": 244,
   "id": "5cfe5329-935d-49a7-a37d-03ae6a6a1c37",
   "metadata": {},
   "outputs": [
    {
     "name": "stdout",
     "output_type": "stream",
     "text": [
      "[ 20  80 180]\n",
      "[12 24 36]\n"
     ]
    }
   ],
   "source": [
    "array_a = np.array([2, 4, 6])\n",
    "array_b = np.array([10,20, 30])\n",
    "\n",
    "print(array_a * array_b)\n",
    "print(array_a + array_b)"
   ]
  },
  {
   "cell_type": "markdown",
   "id": "277d188d-cc71-4ea0-a8ec-710fd2591ca9",
   "metadata": {},
   "source": [
    "**Kemudian, bagaimana jika kedua array tersebut tidak memiliki panjang element yang sama. Apa yang akan terjadi? Perhatikan pada contoh-contoh di bawah ini:**"
   ]
  },
  {
   "cell_type": "markdown",
   "id": "f5d5a428-5d96-407a-a28b-fc0d407b79de",
   "metadata": {},
   "source": [
    "array dapat dioperasikan dengan array yang memiliki shape berbeda, jika salah satunya hanya memiliki shape 1. \n",
    "Sebagai contoh, **array dengan shape 2×3** juga dapat dioperasikan dengan **array shape 3x1**.\n",
    "\n",
    "Contoh dibawah adalah operasi perkalian antara array_c yang memiliki shape 3x1, dan array_d 3x3. Sehingga operasi ini tetap bisa dilakukan. "
   ]
  },
  {
   "cell_type": "code",
   "execution_count": 10,
   "id": "642b4c18-e247-4852-89b5-3860a28cb12d",
   "metadata": {},
   "outputs": [
    {
     "data": {
      "text/plain": [
       "array([[ 20,  40,  60],\n",
       "       [ 80, 100, 120]])"
      ]
     },
     "execution_count": 10,
     "metadata": {},
     "output_type": "execute_result"
    }
   ],
   "source": [
    "# array shape 3x1\n",
    "array_c = np.array([2, 2, 2]) \n",
    "\n",
    "# array shape 3x3\n",
    "array_d = np.array([[10, 20, 30], \n",
    "                   [40, 50, 60]])\n",
    "\n",
    "array_c * array_d"
   ]
  },
  {
   "cell_type": "markdown",
   "id": "bd35e536-4b92-41de-a094-f90c9174604c",
   "metadata": {},
   "source": [
    "Pada contoh ke-2 dibawah ini, array_f dan array_g sama-sama memiliki 1D namun masing-masing array memiliki panjang element yang berbeda. Dan tidak ada yang memiliki shape 1. Sehingga operasi aritmatik tidak dapat dilakukan."
   ]
  },
  {
   "cell_type": "code",
   "execution_count": 263,
   "id": "eb769e58-6cf7-41fd-ba9f-770ca3c50c72",
   "metadata": {},
   "outputs": [
    {
     "ename": "ValueError",
     "evalue": "operands could not be broadcast together with shapes (3,) (4,) ",
     "output_type": "error",
     "traceback": [
      "\u001b[0;31m---------------------------------------------------------------------------\u001b[0m",
      "\u001b[0;31mValueError\u001b[0m                                Traceback (most recent call last)",
      "\u001b[0;32m<ipython-input-263-491f9a8994e4>\u001b[0m in \u001b[0;36m<module>\u001b[0;34m\u001b[0m\n\u001b[1;32m      2\u001b[0m \u001b[0marray_g\u001b[0m \u001b[0;34m=\u001b[0m \u001b[0mnp\u001b[0m\u001b[0;34m.\u001b[0m\u001b[0marray\u001b[0m\u001b[0;34m(\u001b[0m\u001b[0;34m[\u001b[0m\u001b[0;36m10\u001b[0m\u001b[0;34m,\u001b[0m \u001b[0;36m20\u001b[0m\u001b[0;34m,\u001b[0m \u001b[0;36m30\u001b[0m\u001b[0;34m,\u001b[0m \u001b[0;36m40\u001b[0m\u001b[0;34m]\u001b[0m\u001b[0;34m)\u001b[0m\u001b[0;34m\u001b[0m\u001b[0;34m\u001b[0m\u001b[0m\n\u001b[1;32m      3\u001b[0m \u001b[0;34m\u001b[0m\u001b[0m\n\u001b[0;32m----> 4\u001b[0;31m \u001b[0marray_f\u001b[0m \u001b[0;34m+\u001b[0m \u001b[0marray_g\u001b[0m\u001b[0;34m\u001b[0m\u001b[0;34m\u001b[0m\u001b[0m\n\u001b[0m",
      "\u001b[0;31mValueError\u001b[0m: operands could not be broadcast together with shapes (3,) (4,) "
     ]
    }
   ],
   "source": [
    "array_f = np.array([1, 2, 3])\n",
    "array_g = np.array([10, 20, 30, 40])\n",
    "\n",
    "array_f + array_g"
   ]
  },
  {
   "cell_type": "markdown",
   "id": "2151312e-a08e-411f-9660-481e8b018f6d",
   "metadata": {},
   "source": [
    "### Broadcasting\n",
    "\n",
    "Broadcasting adalah bentuk operasi antara array dengan single number, atau biasa juga disebut operasi antara *vector* dan *scalar*. Contoh broadcasting akan sangat mudah untuk dipahami:"
   ]
  },
  {
   "cell_type": "code",
   "execution_count": 264,
   "id": "e5b984f9-5de4-4afa-a7df-df118f2cb281",
   "metadata": {},
   "outputs": [
    {
     "data": {
      "text/plain": [
       "array([[1., 2., 3.],\n",
       "       [4., 5., 6.]])"
      ]
     },
     "execution_count": 264,
     "metadata": {},
     "output_type": "execute_result"
    }
   ],
   "source": [
    "array_d = np.array([[10, 20, 30], \n",
    "                   [40, 50, 60]])\n",
    "\n",
    "array_d / 10"
   ]
  },
  {
   "cell_type": "code",
   "execution_count": 265,
   "id": "62856f15-1da6-4308-a4d2-19d5e8ccef0d",
   "metadata": {},
   "outputs": [
    {
     "data": {
      "text/plain": [
       "array([20, 40, 60])"
      ]
     },
     "execution_count": 265,
     "metadata": {},
     "output_type": "execute_result"
    }
   ],
   "source": [
    "array_f = np.array([1, 2, 3])\n",
    "\n",
    "array_f * 20"
   ]
  },
  {
   "cell_type": "markdown",
   "id": "6d6d7c28-5322-4628-b09f-9ef7cd21d409",
   "metadata": {},
   "source": [
    "Pada contoh diatas dapat dilihat, bahwa masing-masing element pada array_d dibagi oleh 10 (as a single value). dan setiap element pada array_f dikalikan oleh 20 (as a single value)"
   ]
  },
  {
   "cell_type": "markdown",
   "id": "083a1810-cdd1-4f49-9890-75bb109dacaa",
   "metadata": {
    "tags": []
   },
   "source": [
    "### Basic Array Statistical Functions\n",
    "\n",
    "Ada beragam fungsi basic statistik yang dapat diterapkan pada NumPy array. Beberapa akan kita bahas disini:\n",
    "\n",
    "* max() --> untuk menemukan nilai maximum pada array element\n",
    "* min() --> untuk menemukan nilai minimum pada array element\n",
    "* mean()--> untuk menemukan nilai rata-rata dari array element\n",
    "* sum() --> untuk mentotal seluruh nilai pada array element\n",
    "* std() --> untuk mencari standar deviasi dari array element"
   ]
  },
  {
   "cell_type": "code",
   "execution_count": 266,
   "id": "321cc4d7-6bbf-447a-8225-5225fe2ed703",
   "metadata": {},
   "outputs": [
    {
     "data": {
      "text/plain": [
       "array([83,  8, 33, 91, 79, 51, 94, 61, 23, 60, 83, 69,  5,  4, 71, 37, 36,\n",
       "       88, 30, 68])"
      ]
     },
     "execution_count": 266,
     "metadata": {},
     "output_type": "execute_result"
    }
   ],
   "source": [
    "# array dengan random integer antara 1 dan 10, panjang element 20.\n",
    "array_x = np.random.randint(1, 100, 20)\n",
    "array_x"
   ]
  },
  {
   "cell_type": "code",
   "execution_count": 267,
   "id": "350db7f3-4dee-484e-8761-bd6d347cfa11",
   "metadata": {},
   "outputs": [
    {
     "name": "stdout",
     "output_type": "stream",
     "text": [
      "94\n",
      "94\n"
     ]
    }
   ],
   "source": [
    "# mencari nilai maximum. Kedua cara dibawah ini sama-sama benar\n",
    "\n",
    "print(np.max(array_x))\n",
    "print(array_x.max())"
   ]
  },
  {
   "cell_type": "code",
   "execution_count": 268,
   "id": "77a1d23f-7ff8-44d2-852e-cf47debb816d",
   "metadata": {},
   "outputs": [
    {
     "name": "stdout",
     "output_type": "stream",
     "text": [
      "4\n",
      "4\n"
     ]
    }
   ],
   "source": [
    "# mencari nilai minimum. Kedua cara dibawah ini sama-sama benar\n",
    "\n",
    "print(np.min(array_x))\n",
    "print(array_x.min())"
   ]
  },
  {
   "cell_type": "code",
   "execution_count": 269,
   "id": "f7e3b581-02e2-46ab-a94f-49bed1efea8a",
   "metadata": {},
   "outputs": [
    {
     "name": "stdout",
     "output_type": "stream",
     "text": [
      "53.7\n",
      "53.7\n"
     ]
    }
   ],
   "source": [
    "# mencari nilai rata-rata. Kedua cara dibawah ini sama-sama benar\n",
    "\n",
    "print(np.mean(array_x))\n",
    "print(array_x.mean())"
   ]
  },
  {
   "cell_type": "code",
   "execution_count": 270,
   "id": "8033f974-7ee0-41a0-a902-58c4359bdbd3",
   "metadata": {},
   "outputs": [
    {
     "name": "stdout",
     "output_type": "stream",
     "text": [
      "29.0\n",
      "29.019131620363833\n"
     ]
    }
   ],
   "source": [
    "# mencari nilai standar deviasi. Kedua cara dibawah ini sama-sama benar\n",
    "\n",
    "print(np.round(np.std(array_x))) #np.round untuk membulatkan nilai desimal\n",
    "print(array_x.std())"
   ]
  },
  {
   "cell_type": "code",
   "execution_count": 273,
   "id": "1a26d76a-a666-4367-939d-dff6f89767aa",
   "metadata": {},
   "outputs": [
    {
     "data": {
      "text/plain": [
       "array([[11, 55,  6, 79],\n",
       "       [46, 62, 44, 38],\n",
       "       [93, 68, 10, 61],\n",
       "       [22, 58, 79, 59],\n",
       "       [58,  7, 78, 77]])"
      ]
     },
     "execution_count": 273,
     "metadata": {},
     "output_type": "execute_result"
    }
   ],
   "source": [
    "array_y = np.random.randint(1, 100, 20).reshape(5, 4)\n",
    "array_y"
   ]
  },
  {
   "cell_type": "code",
   "execution_count": 274,
   "id": "0b1b607f-2d7e-4cff-8a54-cbf3188d3cf5",
   "metadata": {},
   "outputs": [
    {
     "name": "stdout",
     "output_type": "stream",
     "text": [
      "[230 250 217 314]\n",
      "[151 190 232 218 220]\n",
      "1011\n"
     ]
    }
   ],
   "source": [
    "# mencari sum. Kedua cara dibawah ini sama-sama benar\n",
    "\n",
    "print(np.sum(array_y, axis = 0)) #mentotal secara vertical\n",
    "print(np.sum(array_y, axis = 1)) #mentotal secara horizontal\n",
    "print(np.sum(array_y)) #mentotal seluruh values"
   ]
  },
  {
   "cell_type": "markdown",
   "id": "846091b4-a525-4c2a-ae4b-b246e0881993",
   "metadata": {},
   "source": [
    "# Dictionary "
   ]
  },
  {
   "cell_type": "markdown",
   "id": "501d7674-dec4-4b54-934a-7a9501854294",
   "metadata": {},
   "source": [
    "Dictionary adalah salah satu jenis Python Collection yang\n",
    "merupakan sebuah kumpulan data yang terdiri dari **key (kata kunci)** dan\n",
    "**values (nilai)**. Key harus berisifat *unik*, dan setiap key bisa menampung multiple values. \n",
    "\n",
    "Untuk membuat dictionary kita membutuhkan **{}** *curly brackets* dan **:** *double dots* untuk memisahkan antara **key** dan **value**. \n",
    "\n",
    "contohnya:\n",
    "\n",
    "                    {\"key1\" : \"value\",\n",
    "                     \"key2\" : \"value\"}\n",
    "                     \n",
    "Key & value dapat berbentuk apapun, baik itu *numeric* ataupun *text*\n",
    "                    "
   ]
  },
  {
   "cell_type": "markdown",
   "id": "8347686d-ed08-4103-9273-2623d6e3033b",
   "metadata": {},
   "source": [
    "## Membuat Dictionary secara basic"
   ]
  },
  {
   "cell_type": "code",
   "execution_count": 8,
   "id": "f492ddfc-7dbb-4172-838f-0c4f6faa82a9",
   "metadata": {},
   "outputs": [],
   "source": [
    "# dictionary kita simpan dalam variable: indonesia\n",
    "indonesia = {\"Jawa Barat\": \"Bandung\",\n",
    "            \"Banten\" : \"Serang\",\n",
    "            \"Sumatra Utara\" : \"Medan\"}"
   ]
  },
  {
   "cell_type": "code",
   "execution_count": 9,
   "id": "2d36540e-88a1-4088-979e-787492e14cf8",
   "metadata": {},
   "outputs": [
    {
     "data": {
      "text/plain": [
       "dict"
      ]
     },
     "execution_count": 9,
     "metadata": {},
     "output_type": "execute_result"
    }
   ],
   "source": [
    "# kita check type apakah variable Indonesia sudah merupakan \"dictionary\"\n",
    "type(indonesia)"
   ]
  },
  {
   "cell_type": "code",
   "execution_count": 10,
   "id": "3b91f13a-dbd4-4e09-bd0b-283902204b19",
   "metadata": {},
   "outputs": [
    {
     "data": {
      "text/plain": [
       "'Bandung'"
      ]
     },
     "execution_count": 10,
     "metadata": {},
     "output_type": "execute_result"
    }
   ],
   "source": [
    "# mengakses \"key\" yang ada pada dictionary\n",
    "indonesia[\"Jawa Barat\"]"
   ]
  },
  {
   "cell_type": "markdown",
   "id": "192e6ece-4cf5-4500-9c36-50a69debcbd0",
   "metadata": {},
   "source": [
    "## Membuat dictionary dari list"
   ]
  },
  {
   "cell_type": "markdown",
   "id": "2e7bd0d8-49d5-4257-8077-6d545c6aba3c",
   "metadata": {},
   "source": [
    "Misalnya kita memiliki 2 list, dan ingin menjadikannya sebagai dictionary. Maka kita akan memasangkan kedua list tersebut, dengan menjadikan salah satu list sebagai \"key\" dan list lainnya sebagai \"value\". Hal ini dapat dilakukan dengan menggunakan fungsi *dict()*, dan fungsi *zip()*"
   ]
  },
  {
   "cell_type": "code",
   "execution_count": 9,
   "id": "2cd95f14-6263-4a40-9a04-1bc29a85a431",
   "metadata": {},
   "outputs": [],
   "source": [
    "a = [1, 2, 3, 4, 5]\n",
    "b = [\"a\", \"b\", \"c\", \"d\", \"e\"]\n",
    "\n",
    "dic_ab = dict(zip(b, a))"
   ]
  },
  {
   "cell_type": "code",
   "execution_count": 10,
   "id": "d1638698-5910-4b07-bcdf-6beffc524b4a",
   "metadata": {},
   "outputs": [
    {
     "data": {
      "text/plain": [
       "{'a': 1, 'b': 2, 'c': 3, 'd': 4, 'e': 5}"
      ]
     },
     "execution_count": 10,
     "metadata": {},
     "output_type": "execute_result"
    }
   ],
   "source": [
    "dic_ab"
   ]
  },
  {
   "cell_type": "markdown",
   "id": "3b65e079-9033-48fd-a91d-d935f52965c1",
   "metadata": {},
   "source": [
    "## Mengakses key & value pada Dictionary"
   ]
  },
  {
   "cell_type": "markdown",
   "id": "6b39c90e-171b-4113-b182-31d822621bf5",
   "metadata": {},
   "source": [
    "Berbeda dengan Python collection yang lain, *Dictionary tidak memiliki Index value*. Sehingga cara untuk mengakses key dan value pada dictionary memiliki cara yang berbeda.\n",
    "\n",
    "Beberapa method yang dapat kita gunakan untuk mengakses \"key\" dan \"value\" pada Dictionary:\n",
    "\n",
    "1)  .keys() ---> untuk mengakses keys yang ada pada sebuah dictionary\n",
    "2)  .values() ---> untuk mengakses values yang ada pada sebuah dictionary\n",
    "3)  .items() ---> untuk mengakses keys dan juga values secara bersamaan\n",
    "4)  [\"sebutkan_key\"] --> untuk mengakses value dengan menyebutkan \"key\"-nya saja\n",
    "5) *sebutkan key* **in** *dictionary*\" --> untuk mengecek apakah \"key\" tersebut ada pada dictionary\n",
    "6) .get(\"sebutkan_key\", \"tulis_message\") --> untuk mengecek apakah \"key\" tersebut ada pada dictionary, dan mendapatkan \"output message\" jika key tidak ditemukan."
   ]
  },
  {
   "cell_type": "code",
   "execution_count": 11,
   "id": "49a653de-9a69-40e7-840a-fab54734bba1",
   "metadata": {},
   "outputs": [],
   "source": [
    "# dictionary kita simpan dalam variable: indonesia\n",
    "indonesia = {\"Jawa Barat\": \"Bandung\",\n",
    "            \"Banten\" : \"Serang\",\n",
    "            \"Sumatra Utara\" : \"Medan\"}"
   ]
  },
  {
   "cell_type": "code",
   "execution_count": 14,
   "id": "ef7d2aaf-3e8a-4858-b875-b3440ff60698",
   "metadata": {},
   "outputs": [
    {
     "data": {
      "text/plain": [
       "dict_keys(['Jawa Barat', 'Banten', 'Sumatra Utara'])"
      ]
     },
     "execution_count": 14,
     "metadata": {},
     "output_type": "execute_result"
    }
   ],
   "source": [
    "#1. mengakses keys yang ada pada dictionary \"indonesia\"\n",
    "indonesia.keys()"
   ]
  },
  {
   "cell_type": "code",
   "execution_count": 21,
   "id": "58f93975-ceca-4547-98af-0d6982ba4056",
   "metadata": {},
   "outputs": [
    {
     "data": {
      "text/plain": [
       "dict_values(['Bandung', 'Serang', 'Medan'])"
      ]
     },
     "execution_count": 21,
     "metadata": {},
     "output_type": "execute_result"
    }
   ],
   "source": [
    "#2. mengeluarkan valuenya saja dari dictionary\n",
    "indonesia.values() "
   ]
  },
  {
   "cell_type": "code",
   "execution_count": 22,
   "id": "cf10c4fd-9b61-48aa-8d3c-9319def8788c",
   "metadata": {
    "tags": []
   },
   "outputs": [
    {
     "data": {
      "text/plain": [
       "dict_items([('Jawa Barat', 'Bandung'), ('Banten', 'Serang'), ('Sumatra Utara', 'Medan')])"
      ]
     },
     "execution_count": 22,
     "metadata": {},
     "output_type": "execute_result"
    }
   ],
   "source": [
    "#3. print keys dan valuesnya juga\n",
    "indonesia.items()"
   ]
  },
  {
   "cell_type": "code",
   "execution_count": 12,
   "id": "e95c7447-338e-43fe-aa93-2234cfcdeee2",
   "metadata": {},
   "outputs": [
    {
     "data": {
      "text/plain": [
       "'Serang'"
      ]
     },
     "execution_count": 12,
     "metadata": {},
     "output_type": "execute_result"
    }
   ],
   "source": [
    "#4. mengakses value dengan menyebutkan \"key\"-nya saja\n",
    "indonesia[\"Banten\"]"
   ]
  },
  {
   "cell_type": "code",
   "execution_count": 15,
   "id": "f34b5cd1-f600-4a22-80f0-a1bc269fb776",
   "metadata": {},
   "outputs": [
    {
     "data": {
      "text/plain": [
       "False"
      ]
     },
     "execution_count": 15,
     "metadata": {},
     "output_type": "execute_result"
    }
   ],
   "source": [
    "#5. mengecek apakah \"key\" ada pada dictionary. \n",
    "# output True jika ada, dan False jika tidak ada\n",
    "\n",
    "\"Kuala Lumpur\" in indonesia"
   ]
  },
  {
   "cell_type": "code",
   "execution_count": 16,
   "id": "a84e2609-e0a0-488a-9646-d1c45ce58858",
   "metadata": {},
   "outputs": [
    {
     "data": {
      "text/plain": [
       "'tidak ditemukan'"
      ]
     },
     "execution_count": 16,
     "metadata": {},
     "output_type": "execute_result"
    }
   ],
   "source": [
    "#6. mengecek apakah \"key\" ada pada dictionary. \n",
    "# output: jika ada maka akan memunculkan valuenya\n",
    "# output: jika tidak ada maka akan memunculkan message yang tertulis.\n",
    "\n",
    "#contoh key tidak ditemukan\n",
    "indonesia.get(\"Jakarta\", \"tidak ditemukan\")"
   ]
  },
  {
   "cell_type": "code",
   "execution_count": 18,
   "id": "7d2fd427-9689-4300-a0b4-029e427ac4c6",
   "metadata": {},
   "outputs": [
    {
     "data": {
      "text/plain": [
       "'Serang'"
      ]
     },
     "execution_count": 18,
     "metadata": {},
     "output_type": "execute_result"
    }
   ],
   "source": [
    "#contoh jika key ditemukan\n",
    "indonesia.get(\"Banten\", \"tidak ditemukan\")"
   ]
  }
 ],
 "metadata": {
  "kernelspec": {
   "display_name": "Python 3",
   "language": "python",
   "name": "python3"
  },
  "language_info": {
   "codemirror_mode": {
    "name": "ipython",
    "version": 3
   },
   "file_extension": ".py",
   "mimetype": "text/x-python",
   "name": "python",
   "nbconvert_exporter": "python",
   "pygments_lexer": "ipython3",
   "version": "3.8.7"
  },
  "toc-autonumbering": true,
  "toc-showcode": false,
  "toc-showmarkdowntxt": false,
  "toc-showtags": false
 },
 "nbformat": 4,
 "nbformat_minor": 5
}
