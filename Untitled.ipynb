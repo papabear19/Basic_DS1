{
 "cells": [
  {
   "cell_type": "code",
   "execution_count": 1,
   "id": "fce69a88-70f5-4eb5-943e-e967517bef3a",
   "metadata": {},
   "outputs": [],
   "source": [
    "x=5"
   ]
  },
  {
   "cell_type": "code",
   "execution_count": 3,
   "id": "cac51738-9a20-4bad-a35b-06d142b5337a",
   "metadata": {},
   "outputs": [],
   "source": [
    "nama_saya = \"Aditya\""
   ]
  },
  {
   "cell_type": "code",
   "execution_count": 4,
   "id": "4122a41d-acf3-4a9f-a286-8b29e3057fc8",
   "metadata": {},
   "outputs": [
    {
     "data": {
      "text/plain": [
       "'Aditya'"
      ]
     },
     "execution_count": 4,
     "metadata": {},
     "output_type": "execute_result"
    }
   ],
   "source": [
    "nama_saya"
   ]
  },
  {
   "cell_type": "code",
   "execution_count": 5,
   "id": "5193059b-03ed-4e99-988e-b9092bd22f47",
   "metadata": {},
   "outputs": [
    {
     "name": "stdout",
     "output_type": "stream",
     "text": [
      "5\n",
      "Nama Saya\n",
      "True\n",
      "False\n",
      "5.38\n"
     ]
    }
   ],
   "source": [
    "#variable integer\n",
    "integer = 5\n",
    "\n",
    "#variable string\n",
    "string = \"Nama Saya\"\n",
    "\n",
    "#variable boolean\n",
    "boolean_1 = True\n",
    "boolean_2 = False\n",
    "\n",
    "#variable floating\n",
    "floating = 5.38\n",
    "\n",
    "print(integer)\n",
    "print(string)\n",
    "print(boolean_1)\n",
    "print(boolean_2)\n",
    "print(floating)"
   ]
  },
  {
   "cell_type": "code",
   "execution_count": 6,
   "id": "10db1228-1fc4-4b43-af7a-98221b9d04f6",
   "metadata": {},
   "outputs": [],
   "source": [
    "import os"
   ]
  },
  {
   "cell_type": "code",
   "execution_count": 7,
   "id": "772bc72b-f410-4a70-a0f8-e46d83a36ac7",
   "metadata": {},
   "outputs": [
    {
     "data": {
      "text/plain": [
       "'C:\\\\Users\\\\TAX&ACC\\\\Documents\\\\Data Science Learning'"
      ]
     },
     "execution_count": 7,
     "metadata": {},
     "output_type": "execute_result"
    }
   ],
   "source": [
    "os.getcwd()"
   ]
  },
  {
   "cell_type": "code",
   "execution_count": 8,
   "id": "5285dc2e-65cb-4b51-9c67-079930816849",
   "metadata": {},
   "outputs": [
    {
     "name": "stderr",
     "output_type": "stream",
     "text": [
      "'pwd' is not recognized as an internal or external command,\n",
      "operable program or batch file.\n"
     ]
    }
   ],
   "source": [
    "!pwd"
   ]
  },
  {
   "cell_type": "code",
   "execution_count": 9,
   "id": "7e9e59bd-281a-4cf8-905a-f85085c2febb",
   "metadata": {},
   "outputs": [
    {
     "name": "stdout",
     "output_type": "stream",
     "text": [
      " Volume in drive C is Windows\n",
      " Volume Serial Number is 662F-BFA1\n",
      "\n",
      " Directory of C:\\Users\\TAX&ACC\\Documents\\Data Science Learning\n",
      "\n",
      "03/16/2024  04:10 PM    <DIR>          .\n",
      "03/16/2024  03:20 PM    <DIR>          ..\n",
      "03/16/2024  03:07 PM    <DIR>          .ipynb_checkpoints\n",
      "03/16/2024  04:10 PM             2,661 Untitled.ipynb\n",
      "               1 File(s)          2,661 bytes\n",
      "               3 Dir(s)  54,246,981,632 bytes free\n"
     ]
    }
   ],
   "source": [
    "!dir"
   ]
  },
  {
   "cell_type": "code",
   "execution_count": 10,
   "id": "354351d8-7ebd-4a76-bf20-1a78717838de",
   "metadata": {},
   "outputs": [
    {
     "data": {
      "text/plain": [
       "['.ipynb_checkpoints', 'Untitled.ipynb']"
      ]
     },
     "execution_count": 10,
     "metadata": {},
     "output_type": "execute_result"
    }
   ],
   "source": [
    "os.listdir()"
   ]
  },
  {
   "cell_type": "code",
   "execution_count": 11,
   "id": "e47e5caa-4feb-45f6-a39a-f1e9d4d11ea8",
   "metadata": {},
   "outputs": [],
   "source": [
    "nilai_1 = 10\n",
    "nilai_2 = 15"
   ]
  },
  {
   "cell_type": "code",
   "execution_count": 12,
   "id": "846c8ecf-78a7-4fdb-b2d4-aa3e300baa04",
   "metadata": {},
   "outputs": [
    {
     "data": {
      "text/plain": [
       "25"
      ]
     },
     "execution_count": 12,
     "metadata": {},
     "output_type": "execute_result"
    }
   ],
   "source": [
    "nilai_1 + nilai_2"
   ]
  },
  {
   "cell_type": "code",
   "execution_count": 13,
   "id": "1b9edb94-d487-4c5d-b037-4c5d17eb6129",
   "metadata": {},
   "outputs": [
    {
     "data": {
      "text/plain": [
       "1000000000000000"
      ]
     },
     "execution_count": 13,
     "metadata": {},
     "output_type": "execute_result"
    }
   ],
   "source": [
    "nilai_1 ** nilai_2"
   ]
  },
  {
   "cell_type": "code",
   "execution_count": 14,
   "id": "f4dc0a9d-d31e-421c-aae6-71fd179d0735",
   "metadata": {},
   "outputs": [],
   "source": [
    "hasil = nilai_1 + nilai_2"
   ]
  },
  {
   "cell_type": "code",
   "execution_count": 15,
   "id": "7acc39db-cf3b-4a96-9e40-ea487f89845e",
   "metadata": {},
   "outputs": [
    {
     "data": {
      "text/plain": [
       "250"
      ]
     },
     "execution_count": 15,
     "metadata": {},
     "output_type": "execute_result"
    }
   ],
   "source": [
    "hasil * nilai_1"
   ]
  },
  {
   "cell_type": "code",
   "execution_count": null,
   "id": "89f794b1-df57-4524-9558-8e59f799eec2",
   "metadata": {},
   "outputs": [],
   "source": []
  }
 ],
 "metadata": {
  "kernelspec": {
   "display_name": "Python 3 (ipykernel)",
   "language": "python",
   "name": "python3"
  },
  "language_info": {
   "codemirror_mode": {
    "name": "ipython",
    "version": 3
   },
   "file_extension": ".py",
   "mimetype": "text/x-python",
   "name": "python",
   "nbconvert_exporter": "python",
   "pygments_lexer": "ipython3",
   "version": "3.11.7"
  }
 },
 "nbformat": 4,
 "nbformat_minor": 5
}
